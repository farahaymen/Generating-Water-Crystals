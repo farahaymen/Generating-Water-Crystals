{
  "cells": [
    {
      "cell_type": "code",
      "execution_count": 1,
      "metadata": {
        "id": "VkYndUjA16D-"
      },
      "outputs": [],
      "source": [
        "import torch\n",
        "import torch.nn as nn\n",
        "import torchvision\n",
        "import torchvision.transforms as transforms\n",
        "import torchvision.utils as vutils\n",
        "from torch.utils.data import Dataset\n",
        "from torch.autograd import Variable\n",
        "import os,cv2\n",
        "import torchvision.transforms as transforms\n",
        "import numpy as np\n",
        "import matplotlib.pyplot as plt\n",
        "from torch.autograd import Variable\n",
        "torch.autograd.set_detect_anomaly(True)\n",
        "from torchvision.utils import make_grid \n",
        "from numpy import cov\n",
        "from numpy import trace\n",
        "from numpy import iscomplexobj\n",
        "from numpy import asarray\n",
        "from numpy.random import randint\n",
        "from scipy.linalg import sqrtm\n",
        "from keras.applications.inception_v3 import InceptionV3\n",
        "from keras.applications.inception_v3 import preprocess_input\n",
        "from keras.datasets.mnist import load_data\n",
        "from skimage.transform import resize\n",
        "\n",
        "device = torch.device('cuda' if torch.cuda.is_available() else 'cpu')"
      ]
    },
    {
      "cell_type": "code",
      "execution_count": 2,
      "metadata": {
        "colab": {
          "base_uri": "https://localhost:8080/"
        },
        "id": "55qAy8J12S4b",
        "outputId": "46e91155-b6c8-4a63-86ce-20b807f5d44d"
      },
      "outputs": [
        {
          "name": "stdout",
          "output_type": "stream",
          "text": [
            "Mounted at /content/drive\n",
            "/content/drive/MyDrive/WaterCrystal/final_project/dl-water-crystals-synthesis-super-resolution\n"
          ]
        }
      ],
      "source": [
        "import os\n",
        "runningFromColab = False\n",
        "if 'CGROUP_MEMORY_EVENTS' in os.environ and 'colab' in os.environ['CGROUP_MEMORY_EVENTS']:\n",
        "  runningFromColab = True\n",
        "if runningFromColab:\n",
        "  from google.colab import drive\n",
        "  drive.mount('/content/drive')\n",
        "if runningFromColab:\n",
        "  %cd /content/drive/MyDrive/WaterCrystal/final_project/dl-water-crystals-synthesis-super-resolution"
      ]
    },
    {
      "cell_type": "code",
      "execution_count": 3,
      "metadata": {
        "colab": {
          "base_uri": "https://localhost:8080/"
        },
        "id": "pUwtC0dR2jJj",
        "outputId": "446e3f91-25ac-4159-a442-b3cd8893584f"
      },
      "outputs": [
        {
          "name": "stdout",
          "output_type": "stream",
          "text": [
            "Looking in indexes: https://pypi.org/simple, https://us-python.pkg.dev/colab-wheels/public/simple/\n",
            "Collecting huggingface-hub\n",
            "  Downloading huggingface_hub-0.13.4-py3-none-any.whl (200 kB)\n",
            "\u001b[2K     \u001b[90m━━━━━━━━━━━━━━━━━━━━━━━━━━━━━━━━━━━━━━\u001b[0m \u001b[32m200.1/200.1 kB\u001b[0m \u001b[31m10.1 MB/s\u001b[0m eta \u001b[36m0:00:00\u001b[0m\n",
            "\u001b[?25hRequirement already satisfied: tqdm>=4.42.1 in /usr/local/lib/python3.9/dist-packages (from huggingface-hub) (4.65.0)\n",
            "Requirement already satisfied: pyyaml>=5.1 in /usr/local/lib/python3.9/dist-packages (from huggingface-hub) (6.0)\n",
            "Requirement already satisfied: typing-extensions>=3.7.4.3 in /usr/local/lib/python3.9/dist-packages (from huggingface-hub) (4.5.0)\n",
            "Requirement already satisfied: requests in /usr/local/lib/python3.9/dist-packages (from huggingface-hub) (2.27.1)\n",
            "Requirement already satisfied: packaging>=20.9 in /usr/local/lib/python3.9/dist-packages (from huggingface-hub) (23.0)\n",
            "Requirement already satisfied: filelock in /usr/local/lib/python3.9/dist-packages (from huggingface-hub) (3.11.0)\n",
            "Requirement already satisfied: certifi>=2017.4.17 in /usr/local/lib/python3.9/dist-packages (from requests->huggingface-hub) (2022.12.7)\n",
            "Requirement already satisfied: urllib3<1.27,>=1.21.1 in /usr/local/lib/python3.9/dist-packages (from requests->huggingface-hub) (1.26.15)\n",
            "Requirement already satisfied: charset-normalizer~=2.0.0 in /usr/local/lib/python3.9/dist-packages (from requests->huggingface-hub) (2.0.12)\n",
            "Requirement already satisfied: idna<4,>=2.5 in /usr/local/lib/python3.9/dist-packages (from requests->huggingface-hub) (3.4)\n",
            "Installing collected packages: huggingface-hub\n",
            "Successfully installed huggingface-hub-0.13.4\n",
            "Looking in indexes: https://pypi.org/simple, https://us-python.pkg.dev/colab-wheels/public/simple/\n",
            "Collecting datasets\n",
            "  Downloading datasets-2.11.0-py3-none-any.whl (468 kB)\n",
            "\u001b[2K     \u001b[90m━━━━━━━━━━━━━━━━━━━━━━━━━━━━━━━━━━━━━━\u001b[0m \u001b[32m468.7/468.7 kB\u001b[0m \u001b[31m18.1 MB/s\u001b[0m eta \u001b[36m0:00:00\u001b[0m\n",
            "\u001b[?25hRequirement already satisfied: pyyaml>=5.1 in /usr/local/lib/python3.9/dist-packages (from datasets) (6.0)\n",
            "Collecting multiprocess\n",
            "  Downloading multiprocess-0.70.14-py39-none-any.whl (132 kB)\n",
            "\u001b[2K     \u001b[90m━━━━━━━━━━━━━━━━━━━━━━━━━━━━━━━━━━━━━━\u001b[0m \u001b[32m132.9/132.9 kB\u001b[0m \u001b[31m15.2 MB/s\u001b[0m eta \u001b[36m0:00:00\u001b[0m\n",
            "\u001b[?25hRequirement already satisfied: requests>=2.19.0 in /usr/local/lib/python3.9/dist-packages (from datasets) (2.27.1)\n",
            "Requirement already satisfied: fsspec[http]>=2021.11.1 in /usr/local/lib/python3.9/dist-packages (from datasets) (2023.3.0)\n",
            "Collecting responses<0.19\n",
            "  Downloading responses-0.18.0-py3-none-any.whl (38 kB)\n",
            "Collecting xxhash\n",
            "  Downloading xxhash-3.2.0-cp39-cp39-manylinux_2_17_x86_64.manylinux2014_x86_64.whl (212 kB)\n",
            "\u001b[2K     \u001b[90m━━━━━━━━━━━━━━━━━━━━━━━━━━━━━━━━━━━━━━\u001b[0m \u001b[32m212.2/212.2 kB\u001b[0m \u001b[31m22.5 MB/s\u001b[0m eta \u001b[36m0:00:00\u001b[0m\n",
            "\u001b[?25hCollecting dill<0.3.7,>=0.3.0\n",
            "  Downloading dill-0.3.6-py3-none-any.whl (110 kB)\n",
            "\u001b[2K     \u001b[90m━━━━━━━━━━━━━━━━━━━━━━━━━━━━━━━━━━━━━━\u001b[0m \u001b[32m110.5/110.5 kB\u001b[0m \u001b[31m10.4 MB/s\u001b[0m eta \u001b[36m0:00:00\u001b[0m\n",
            "\u001b[?25hRequirement already satisfied: tqdm>=4.62.1 in /usr/local/lib/python3.9/dist-packages (from datasets) (4.65.0)\n",
            "Requirement already satisfied: pyarrow>=8.0.0 in /usr/local/lib/python3.9/dist-packages (from datasets) (9.0.0)\n",
            "Requirement already satisfied: packaging in /usr/local/lib/python3.9/dist-packages (from datasets) (23.0)\n",
            "Collecting aiohttp\n",
            "  Downloading aiohttp-3.8.4-cp39-cp39-manylinux_2_17_x86_64.manylinux2014_x86_64.whl (1.0 MB)\n",
            "\u001b[2K     \u001b[90m━━━━━━━━━━━━━━━━━━━━━━━━━━━━━━━━━━━━━━━━\u001b[0m \u001b[32m1.0/1.0 MB\u001b[0m \u001b[31m51.9 MB/s\u001b[0m eta \u001b[36m0:00:00\u001b[0m\n",
            "\u001b[?25hRequirement already satisfied: huggingface-hub<1.0.0,>=0.11.0 in /usr/local/lib/python3.9/dist-packages (from datasets) (0.13.4)\n",
            "Requirement already satisfied: pandas in /usr/local/lib/python3.9/dist-packages (from datasets) (1.5.3)\n",
            "Requirement already satisfied: numpy>=1.17 in /usr/local/lib/python3.9/dist-packages (from datasets) (1.22.4)\n",
            "Requirement already satisfied: charset-normalizer<4.0,>=2.0 in /usr/local/lib/python3.9/dist-packages (from aiohttp->datasets) (2.0.12)\n",
            "Collecting async-timeout<5.0,>=4.0.0a3\n",
            "  Downloading async_timeout-4.0.2-py3-none-any.whl (5.8 kB)\n",
            "Collecting multidict<7.0,>=4.5\n",
            "  Downloading multidict-6.0.4-cp39-cp39-manylinux_2_17_x86_64.manylinux2014_x86_64.whl (114 kB)\n",
            "\u001b[2K     \u001b[90m━━━━━━━━━━━━━━━━━━━━━━━━━━━━━━━━━━━━━━\u001b[0m \u001b[32m114.2/114.2 kB\u001b[0m \u001b[31m13.4 MB/s\u001b[0m eta \u001b[36m0:00:00\u001b[0m\n",
            "\u001b[?25hCollecting frozenlist>=1.1.1\n",
            "  Downloading frozenlist-1.3.3-cp39-cp39-manylinux_2_5_x86_64.manylinux1_x86_64.manylinux_2_17_x86_64.manylinux2014_x86_64.whl (158 kB)\n",
            "\u001b[2K     \u001b[90m━━━━━━━━━━━━━━━━━━━━━━━━━━━━━━━━━━━━━━\u001b[0m \u001b[32m158.8/158.8 kB\u001b[0m \u001b[31m17.9 MB/s\u001b[0m eta \u001b[36m0:00:00\u001b[0m\n",
            "\u001b[?25hCollecting yarl<2.0,>=1.0\n",
            "  Downloading yarl-1.8.2-cp39-cp39-manylinux_2_17_x86_64.manylinux2014_x86_64.whl (264 kB)\n",
            "\u001b[2K     \u001b[90m━━━━━━━━━━━━━━━━━━━━━━━━━━━━━━━━━━━━━━\u001b[0m \u001b[32m264.6/264.6 kB\u001b[0m \u001b[31m24.9 MB/s\u001b[0m eta \u001b[36m0:00:00\u001b[0m\n",
            "\u001b[?25hRequirement already satisfied: attrs>=17.3.0 in /usr/local/lib/python3.9/dist-packages (from aiohttp->datasets) (22.2.0)\n",
            "Collecting aiosignal>=1.1.2\n",
            "  Downloading aiosignal-1.3.1-py3-none-any.whl (7.6 kB)\n",
            "Requirement already satisfied: filelock in /usr/local/lib/python3.9/dist-packages (from huggingface-hub<1.0.0,>=0.11.0->datasets) (3.11.0)\n",
            "Requirement already satisfied: typing-extensions>=3.7.4.3 in /usr/local/lib/python3.9/dist-packages (from huggingface-hub<1.0.0,>=0.11.0->datasets) (4.5.0)\n",
            "Requirement already satisfied: urllib3<1.27,>=1.21.1 in /usr/local/lib/python3.9/dist-packages (from requests>=2.19.0->datasets) (1.26.15)\n",
            "Requirement already satisfied: certifi>=2017.4.17 in /usr/local/lib/python3.9/dist-packages (from requests>=2.19.0->datasets) (2022.12.7)\n",
            "Requirement already satisfied: idna<4,>=2.5 in /usr/local/lib/python3.9/dist-packages (from requests>=2.19.0->datasets) (3.4)\n",
            "Requirement already satisfied: python-dateutil>=2.8.1 in /usr/local/lib/python3.9/dist-packages (from pandas->datasets) (2.8.2)\n",
            "Requirement already satisfied: pytz>=2020.1 in /usr/local/lib/python3.9/dist-packages (from pandas->datasets) (2022.7.1)\n",
            "Requirement already satisfied: six>=1.5 in /usr/local/lib/python3.9/dist-packages (from python-dateutil>=2.8.1->pandas->datasets) (1.16.0)\n",
            "Installing collected packages: xxhash, multidict, frozenlist, dill, async-timeout, yarl, responses, multiprocess, aiosignal, aiohttp, datasets\n",
            "Successfully installed aiohttp-3.8.4 aiosignal-1.3.1 async-timeout-4.0.2 datasets-2.11.0 dill-0.3.6 frozenlist-1.3.3 multidict-6.0.4 multiprocess-0.70.14 responses-0.18.0 xxhash-3.2.0 yarl-1.8.2\n",
            "Looking in indexes: https://pypi.org/simple, https://us-python.pkg.dev/colab-wheels/public/simple/\n",
            "Collecting diffusers[training]==0.11.1\n",
            "  Downloading diffusers-0.11.1-py3-none-any.whl (524 kB)\n",
            "\u001b[2K     \u001b[90m━━━━━━━━━━━━━━━━━━━━━━━━━━━━━━━━━━━━━━\u001b[0m \u001b[32m524.9/524.9 kB\u001b[0m \u001b[31m22.0 MB/s\u001b[0m eta \u001b[36m0:00:00\u001b[0m\n",
            "\u001b[?25hRequirement already satisfied: Pillow in /usr/local/lib/python3.9/dist-packages (from diffusers[training]==0.11.1) (8.4.0)\n",
            "Requirement already satisfied: huggingface-hub>=0.10.0 in /usr/local/lib/python3.9/dist-packages (from diffusers[training]==0.11.1) (0.13.4)\n",
            "Requirement already satisfied: importlib-metadata in /usr/local/lib/python3.9/dist-packages (from diffusers[training]==0.11.1) (6.2.0)\n",
            "Requirement already satisfied: regex!=2019.12.17 in /usr/local/lib/python3.9/dist-packages (from diffusers[training]==0.11.1) (2022.10.31)\n",
            "Requirement already satisfied: requests in /usr/local/lib/python3.9/dist-packages (from diffusers[training]==0.11.1) (2.27.1)\n",
            "Requirement already satisfied: numpy in /usr/local/lib/python3.9/dist-packages (from diffusers[training]==0.11.1) (1.22.4)\n",
            "Requirement already satisfied: filelock in /usr/local/lib/python3.9/dist-packages (from diffusers[training]==0.11.1) (3.11.0)\n",
            "Collecting modelcards>=0.1.4\n",
            "  Downloading modelcards-0.1.6-py3-none-any.whl (12 kB)\n",
            "Collecting accelerate>=0.11.0\n",
            "  Downloading accelerate-0.18.0-py3-none-any.whl (215 kB)\n",
            "\u001b[2K     \u001b[90m━━━━━━━━━━━━━━━━━━━━━━━━━━━━━━━━━━━━━━\u001b[0m \u001b[32m215.3/215.3 kB\u001b[0m \u001b[31m20.0 MB/s\u001b[0m eta \u001b[36m0:00:00\u001b[0m\n",
            "\u001b[?25hRequirement already satisfied: datasets in /usr/local/lib/python3.9/dist-packages (from diffusers[training]==0.11.1) (2.11.0)\n",
            "Requirement already satisfied: tensorboard in /usr/local/lib/python3.9/dist-packages (from diffusers[training]==0.11.1) (2.12.1)\n",
            "Requirement already satisfied: packaging>=20.0 in /usr/local/lib/python3.9/dist-packages (from accelerate>=0.11.0->diffusers[training]==0.11.1) (23.0)\n",
            "Requirement already satisfied: psutil in /usr/local/lib/python3.9/dist-packages (from accelerate>=0.11.0->diffusers[training]==0.11.1) (5.9.4)\n",
            "Requirement already satisfied: torch>=1.4.0 in /usr/local/lib/python3.9/dist-packages (from accelerate>=0.11.0->diffusers[training]==0.11.1) (2.0.0+cu118)\n",
            "Requirement already satisfied: pyyaml in /usr/local/lib/python3.9/dist-packages (from accelerate>=0.11.0->diffusers[training]==0.11.1) (6.0)\n",
            "Requirement already satisfied: typing-extensions>=3.7.4.3 in /usr/local/lib/python3.9/dist-packages (from huggingface-hub>=0.10.0->diffusers[training]==0.11.1) (4.5.0)\n",
            "Requirement already satisfied: tqdm>=4.42.1 in /usr/local/lib/python3.9/dist-packages (from huggingface-hub>=0.10.0->diffusers[training]==0.11.1) (4.65.0)\n",
            "Requirement already satisfied: Jinja2 in /usr/local/lib/python3.9/dist-packages (from modelcards>=0.1.4->diffusers[training]==0.11.1) (3.1.2)\n",
            "Requirement already satisfied: aiohttp in /usr/local/lib/python3.9/dist-packages (from datasets->diffusers[training]==0.11.1) (3.8.4)\n",
            "Requirement already satisfied: pandas in /usr/local/lib/python3.9/dist-packages (from datasets->diffusers[training]==0.11.1) (1.5.3)\n",
            "Requirement already satisfied: fsspec[http]>=2021.11.1 in /usr/local/lib/python3.9/dist-packages (from datasets->diffusers[training]==0.11.1) (2023.3.0)\n",
            "Requirement already satisfied: multiprocess in /usr/local/lib/python3.9/dist-packages (from datasets->diffusers[training]==0.11.1) (0.70.14)\n",
            "Requirement already satisfied: responses<0.19 in /usr/local/lib/python3.9/dist-packages (from datasets->diffusers[training]==0.11.1) (0.18.0)\n",
            "Requirement already satisfied: dill<0.3.7,>=0.3.0 in /usr/local/lib/python3.9/dist-packages (from datasets->diffusers[training]==0.11.1) (0.3.6)\n",
            "Requirement already satisfied: xxhash in /usr/local/lib/python3.9/dist-packages (from datasets->diffusers[training]==0.11.1) (3.2.0)\n",
            "Requirement already satisfied: pyarrow>=8.0.0 in /usr/local/lib/python3.9/dist-packages (from datasets->diffusers[training]==0.11.1) (9.0.0)\n",
            "Requirement already satisfied: urllib3<1.27,>=1.21.1 in /usr/local/lib/python3.9/dist-packages (from requests->diffusers[training]==0.11.1) (1.26.15)\n",
            "Requirement already satisfied: certifi>=2017.4.17 in /usr/local/lib/python3.9/dist-packages (from requests->diffusers[training]==0.11.1) (2022.12.7)\n",
            "Requirement already satisfied: charset-normalizer~=2.0.0 in /usr/local/lib/python3.9/dist-packages (from requests->diffusers[training]==0.11.1) (2.0.12)\n",
            "Requirement already satisfied: idna<4,>=2.5 in /usr/local/lib/python3.9/dist-packages (from requests->diffusers[training]==0.11.1) (3.4)\n",
            "Requirement already satisfied: zipp>=0.5 in /usr/local/lib/python3.9/dist-packages (from importlib-metadata->diffusers[training]==0.11.1) (3.15.0)\n",
            "Requirement already satisfied: google-auth<3,>=1.6.3 in /usr/local/lib/python3.9/dist-packages (from tensorboard->diffusers[training]==0.11.1) (2.17.2)\n",
            "Requirement already satisfied: markdown>=2.6.8 in /usr/local/lib/python3.9/dist-packages (from tensorboard->diffusers[training]==0.11.1) (3.4.3)\n",
            "Requirement already satisfied: setuptools>=41.0.0 in /usr/local/lib/python3.9/dist-packages (from tensorboard->diffusers[training]==0.11.1) (67.6.1)\n",
            "Requirement already satisfied: tensorboard-data-server<0.8.0,>=0.7.0 in /usr/local/lib/python3.9/dist-packages (from tensorboard->diffusers[training]==0.11.1) (0.7.0)\n",
            "Requirement already satisfied: tensorboard-plugin-wit>=1.6.0 in /usr/local/lib/python3.9/dist-packages (from tensorboard->diffusers[training]==0.11.1) (1.8.1)\n",
            "Requirement already satisfied: wheel>=0.26 in /usr/local/lib/python3.9/dist-packages (from tensorboard->diffusers[training]==0.11.1) (0.40.0)\n",
            "Requirement already satisfied: absl-py>=0.4 in /usr/local/lib/python3.9/dist-packages (from tensorboard->diffusers[training]==0.11.1) (1.4.0)\n",
            "Requirement already satisfied: protobuf>=3.19.6 in /usr/local/lib/python3.9/dist-packages (from tensorboard->diffusers[training]==0.11.1) (3.20.3)\n",
            "Requirement already satisfied: google-auth-oauthlib<1.1,>=0.5 in /usr/local/lib/python3.9/dist-packages (from tensorboard->diffusers[training]==0.11.1) (1.0.0)\n",
            "Requirement already satisfied: grpcio>=1.48.2 in /usr/local/lib/python3.9/dist-packages (from tensorboard->diffusers[training]==0.11.1) (1.53.0)\n",
            "Requirement already satisfied: werkzeug>=1.0.1 in /usr/local/lib/python3.9/dist-packages (from tensorboard->diffusers[training]==0.11.1) (2.2.3)\n",
            "Requirement already satisfied: frozenlist>=1.1.1 in /usr/local/lib/python3.9/dist-packages (from aiohttp->datasets->diffusers[training]==0.11.1) (1.3.3)\n",
            "Requirement already satisfied: yarl<2.0,>=1.0 in /usr/local/lib/python3.9/dist-packages (from aiohttp->datasets->diffusers[training]==0.11.1) (1.8.2)\n",
            "Requirement already satisfied: multidict<7.0,>=4.5 in /usr/local/lib/python3.9/dist-packages (from aiohttp->datasets->diffusers[training]==0.11.1) (6.0.4)\n",
            "Requirement already satisfied: async-timeout<5.0,>=4.0.0a3 in /usr/local/lib/python3.9/dist-packages (from aiohttp->datasets->diffusers[training]==0.11.1) (4.0.2)\n",
            "Requirement already satisfied: aiosignal>=1.1.2 in /usr/local/lib/python3.9/dist-packages (from aiohttp->datasets->diffusers[training]==0.11.1) (1.3.1)\n",
            "Requirement already satisfied: attrs>=17.3.0 in /usr/local/lib/python3.9/dist-packages (from aiohttp->datasets->diffusers[training]==0.11.1) (22.2.0)\n",
            "Requirement already satisfied: six>=1.9.0 in /usr/local/lib/python3.9/dist-packages (from google-auth<3,>=1.6.3->tensorboard->diffusers[training]==0.11.1) (1.16.0)\n",
            "Requirement already satisfied: rsa<5,>=3.1.4 in /usr/local/lib/python3.9/dist-packages (from google-auth<3,>=1.6.3->tensorboard->diffusers[training]==0.11.1) (4.9)\n",
            "Requirement already satisfied: pyasn1-modules>=0.2.1 in /usr/local/lib/python3.9/dist-packages (from google-auth<3,>=1.6.3->tensorboard->diffusers[training]==0.11.1) (0.2.8)\n",
            "Requirement already satisfied: cachetools<6.0,>=2.0.0 in /usr/local/lib/python3.9/dist-packages (from google-auth<3,>=1.6.3->tensorboard->diffusers[training]==0.11.1) (5.3.0)\n",
            "Requirement already satisfied: requests-oauthlib>=0.7.0 in /usr/local/lib/python3.9/dist-packages (from google-auth-oauthlib<1.1,>=0.5->tensorboard->diffusers[training]==0.11.1) (1.3.1)\n",
            "Requirement already satisfied: networkx in /usr/local/lib/python3.9/dist-packages (from torch>=1.4.0->accelerate>=0.11.0->diffusers[training]==0.11.1) (3.1)\n",
            "Requirement already satisfied: sympy in /usr/local/lib/python3.9/dist-packages (from torch>=1.4.0->accelerate>=0.11.0->diffusers[training]==0.11.1) (1.11.1)\n",
            "Requirement already satisfied: triton==2.0.0 in /usr/local/lib/python3.9/dist-packages (from torch>=1.4.0->accelerate>=0.11.0->diffusers[training]==0.11.1) (2.0.0)\n",
            "Requirement already satisfied: cmake in /usr/local/lib/python3.9/dist-packages (from triton==2.0.0->torch>=1.4.0->accelerate>=0.11.0->diffusers[training]==0.11.1) (3.25.2)\n",
            "Requirement already satisfied: lit in /usr/local/lib/python3.9/dist-packages (from triton==2.0.0->torch>=1.4.0->accelerate>=0.11.0->diffusers[training]==0.11.1) (16.0.1)\n",
            "Requirement already satisfied: MarkupSafe>=2.1.1 in /usr/local/lib/python3.9/dist-packages (from werkzeug>=1.0.1->tensorboard->diffusers[training]==0.11.1) (2.1.2)\n",
            "Requirement already satisfied: python-dateutil>=2.8.1 in /usr/local/lib/python3.9/dist-packages (from pandas->datasets->diffusers[training]==0.11.1) (2.8.2)\n",
            "Requirement already satisfied: pytz>=2020.1 in /usr/local/lib/python3.9/dist-packages (from pandas->datasets->diffusers[training]==0.11.1) (2022.7.1)\n",
            "Requirement already satisfied: pyasn1<0.5.0,>=0.4.6 in /usr/local/lib/python3.9/dist-packages (from pyasn1-modules>=0.2.1->google-auth<3,>=1.6.3->tensorboard->diffusers[training]==0.11.1) (0.4.8)\n",
            "Requirement already satisfied: oauthlib>=3.0.0 in /usr/local/lib/python3.9/dist-packages (from requests-oauthlib>=0.7.0->google-auth-oauthlib<1.1,>=0.5->tensorboard->diffusers[training]==0.11.1) (3.2.2)\n",
            "Requirement already satisfied: mpmath>=0.19 in /usr/local/lib/python3.9/dist-packages (from sympy->torch>=1.4.0->accelerate>=0.11.0->diffusers[training]==0.11.1) (1.3.0)\n",
            "Installing collected packages: modelcards, diffusers, accelerate\n",
            "Successfully installed accelerate-0.18.0 diffusers-0.11.1 modelcards-0.1.6\n",
            "Looking in indexes: https://pypi.org/simple, https://us-python.pkg.dev/colab-wheels/public/simple/\n",
            "Requirement already satisfied: accelerate in /usr/local/lib/python3.9/dist-packages (0.18.0)\n",
            "Requirement already satisfied: numpy>=1.17 in /usr/local/lib/python3.9/dist-packages (from accelerate) (1.22.4)\n",
            "Requirement already satisfied: packaging>=20.0 in /usr/local/lib/python3.9/dist-packages (from accelerate) (23.0)\n",
            "Requirement already satisfied: torch>=1.4.0 in /usr/local/lib/python3.9/dist-packages (from accelerate) (2.0.0+cu118)\n",
            "Requirement already satisfied: psutil in /usr/local/lib/python3.9/dist-packages (from accelerate) (5.9.4)\n",
            "Requirement already satisfied: pyyaml in /usr/local/lib/python3.9/dist-packages (from accelerate) (6.0)\n",
            "Requirement already satisfied: filelock in /usr/local/lib/python3.9/dist-packages (from torch>=1.4.0->accelerate) (3.11.0)\n",
            "Requirement already satisfied: sympy in /usr/local/lib/python3.9/dist-packages (from torch>=1.4.0->accelerate) (1.11.1)\n",
            "Requirement already satisfied: triton==2.0.0 in /usr/local/lib/python3.9/dist-packages (from torch>=1.4.0->accelerate) (2.0.0)\n",
            "Requirement already satisfied: networkx in /usr/local/lib/python3.9/dist-packages (from torch>=1.4.0->accelerate) (3.1)\n",
            "Requirement already satisfied: jinja2 in /usr/local/lib/python3.9/dist-packages (from torch>=1.4.0->accelerate) (3.1.2)\n",
            "Requirement already satisfied: typing-extensions in /usr/local/lib/python3.9/dist-packages (from torch>=1.4.0->accelerate) (4.5.0)\n",
            "Requirement already satisfied: lit in /usr/local/lib/python3.9/dist-packages (from triton==2.0.0->torch>=1.4.0->accelerate) (16.0.1)\n",
            "Requirement already satisfied: cmake in /usr/local/lib/python3.9/dist-packages (from triton==2.0.0->torch>=1.4.0->accelerate) (3.25.2)\n",
            "Requirement already satisfied: MarkupSafe>=2.0 in /usr/local/lib/python3.9/dist-packages (from jinja2->torch>=1.4.0->accelerate) (2.1.2)\n",
            "Requirement already satisfied: mpmath>=0.19 in /usr/local/lib/python3.9/dist-packages (from sympy->torch>=1.4.0->accelerate) (1.3.0)\n",
            "Looking in indexes: https://pypi.org/simple, https://us-python.pkg.dev/colab-wheels/public/simple/\n",
            "Collecting Augmentor\n",
            "  Downloading Augmentor-0.2.12-py2.py3-none-any.whl (38 kB)\n",
            "Requirement already satisfied: tqdm>=4.9.0 in /usr/local/lib/python3.9/dist-packages (from Augmentor) (4.65.0)\n",
            "Requirement already satisfied: Pillow>=5.2.0 in /usr/local/lib/python3.9/dist-packages (from Augmentor) (8.4.0)\n",
            "Requirement already satisfied: numpy>=1.11.0 in /usr/local/lib/python3.9/dist-packages (from Augmentor) (1.22.4)\n",
            "Installing collected packages: Augmentor\n",
            "Successfully installed Augmentor-0.2.12\n",
            "git-lfs is already the newest version (2.9.2-1).\n",
            "0 upgraded, 0 newly installed, 0 to remove and 24 not upgraded.\n"
          ]
        }
      ],
      "source": [
        "if runningFromColab:\n",
        "  !pip install huggingface-hub\n",
        "  !pip install datasets\n",
        "  !pip install diffusers[training]==0.11.1\n",
        "  !pip install accelerate\n",
        "  !pip install Augmentor\n",
        "  # install Git-LFS to upload the model checkpoints\n",
        "  !sudo apt -qq install git-lfs\n",
        "  !git config --global credential.helper store"
      ]
    },
    {
      "cell_type": "code",
      "execution_count": 4,
      "metadata": {
        "id": "9J1kk1Cq16EC"
      },
      "outputs": [],
      "source": [
        "class waterCrtystals(Dataset):\n",
        "    def __init__(self, root, transform):\n",
        "        self.root = root\n",
        "        self.transform=transform\n",
        "    def __len__(self):\n",
        "        return len([entry for entry in os.listdir(self.root) if os.path.isfile(os.path.join(self.root, entry))])\n",
        "\n",
        "    def __getitem__(self, idx):\n",
        "        for i, img in enumerate(os.listdir(self.root)):\n",
        "            img = cv2.imread(os.path.join(f'{self.root}/{img}'))\n",
        "            if self.transform:\n",
        "                img = self.transform(img)\n",
        "            if i == idx:\n",
        "                return img,idx\n",
        "\n",
        "\n",
        "def dataloader(batch_size):\n",
        "  dataroot=\"dataset/Microparticle\"\n",
        "  transform=transforms.Compose([transforms.ToTensor(), transforms.Resize(128),transforms.CenterCrop(128),transforms.Normalize((0),(1))])\n",
        "  dataset=waterCrtystals(root=dataroot,transform=transform)\n",
        "  data_loader = torch.utils.data.DataLoader(dataset, batch_size=batch_size, shuffle=True)\n",
        "  return data_loader\n",
        "    "
      ]
    },
    {
      "cell_type": "code",
      "execution_count": 5,
      "metadata": {
        "id": "xwMOEm7y16EE"
      },
      "outputs": [],
      "source": [
        "def weights_init(m):\n",
        "    classname = m.__class__.__name__\n",
        "    if classname.find('Conv') != -1:\n",
        "        nn.init.normal_(m.weight.data, 0.0, 0.02)\n",
        "    elif classname.find('BatchNorm') != -1:\n",
        "        nn.init.normal_(m.weight.data, 1.0, 0.02)\n",
        "        nn.init.constant_(m.bias.data, 0)\n",
        "\n",
        "class Encoder(nn.Module):\n",
        "  def __init__(self):\n",
        "    super(Encoder,self).__init__()\n",
        "    self.conv1=nn.Conv2d(3,64,5,padding=2,stride=2)   #in_channels=3\n",
        "    self.bn1=nn.BatchNorm2d(64,momentum=0.9)\n",
        "    self.conv2=nn.Conv2d(64,128,5,padding=2,stride=2)\n",
        "    self.bn2=nn.BatchNorm2d(128,momentum=0.9)\n",
        "    self.conv3=nn.Conv2d(128,256,5,padding=2,stride=2)\n",
        "    self.bn3=nn.BatchNorm2d(256,momentum=0.9)\n",
        "    self.relu=nn.LeakyReLU(0.2)\n",
        "    self.fc1=nn.Linear(256*16*16,2048)\n",
        "    self.bn4=nn.BatchNorm1d(2048,momentum=0.9)\n",
        "    self.fc_mean=nn.Linear(2048,128)\n",
        "    self.fc_logvar=nn.Linear(2048,128)   #latent dim=128\n",
        "  \n",
        "  def forward(self,x):\n",
        "    batch_size=x.size()[0]\n",
        "    out=self.relu(self.bn1(self.conv1(x)))\n",
        "    out=self.relu(self.bn2(self.conv2(out)))\n",
        "    out=self.relu(self.bn3(self.conv3(out)))\n",
        "    out=out.view(batch_size,-1)\n",
        "    out=self.relu(self.bn4(self.fc1(out)))\n",
        "    mean=self.fc_mean(out)\n",
        "    logvar=self.fc_logvar(out)\n",
        "    \n",
        "    return mean,logvar\n",
        "class Decoder(nn.Module):\n",
        "  def __init__(self):\n",
        "    super(Decoder,self).__init__()\n",
        "    self.fc1=nn.Linear(128,16*16*256)\n",
        "    self.bn1=nn.BatchNorm1d(16*16*256,momentum=0.9)\n",
        "    self.relu=nn.LeakyReLU(0.2)\n",
        "    self.deconv1=nn.ConvTranspose2d(256,256,6, stride=2, padding=2)\n",
        "    self.bn2=nn.BatchNorm2d(256,momentum=0.9)\n",
        "    self.deconv2=nn.ConvTranspose2d(256,128,6, stride=2, padding=2)\n",
        "    self.bn3=nn.BatchNorm2d(128,momentum=0.9)\n",
        "    self.deconv3=nn.ConvTranspose2d(128,32,6, stride=2, padding=2)\n",
        "    self.bn4=nn.BatchNorm2d(32,momentum=0.9)\n",
        "    self.deconv4=nn.ConvTranspose2d(32,3,5, stride=1, padding=2)\n",
        "    self.tanh=nn.Tanh()\n",
        "\n",
        "  def forward(self,x):\n",
        "    batch_size=x.size()[0]\n",
        "    x=self.relu(self.bn1(self.fc1(x)))\n",
        "    x=x.view(-1,256,16,16)\n",
        "    x=self.relu(self.bn2(self.deconv1(x)))\n",
        "    x=self.relu(self.bn3(self.deconv2(x)))\n",
        "    x=self.relu(self.bn4(self.deconv3(x)))\n",
        "    x=self.tanh(self.deconv4(x))\n",
        "    return x\n",
        "  \n",
        "class Discriminator(nn.Module):\n",
        "  def __init__(self):\n",
        "    super(Discriminator,self).__init__()\n",
        "    self.conv1=nn.Conv2d(3,32,5,padding=2,stride=1)\n",
        "    self.relu=nn.LeakyReLU(0.2)\n",
        "    self.conv2=nn.Conv2d(32,128,5,padding=2,stride=2)\n",
        "    self.bn1=nn.BatchNorm2d(128,momentum=0.9)\n",
        "    self.conv3=nn.Conv2d(128,256,5,padding=2,stride=2)\n",
        "    self.bn2=nn.BatchNorm2d(256,momentum=0.9)\n",
        "    self.conv4=nn.Conv2d(256,256,5,padding=2,stride=2)\n",
        "    self.bn3=nn.BatchNorm2d(256,momentum=0.9)\n",
        "    self.fc1=nn.Linear(16*16*256,512)\n",
        "    self.bn4=nn.BatchNorm1d(512,momentum=0.9)\n",
        "    self.fc2=nn.Linear(512,1)\n",
        "    self.sigmoid=nn.Sigmoid()\n",
        "\n",
        "  def forward(self,x):\n",
        "    batch_size=x.size()[0]\n",
        "    x=self.relu(self.conv1(x))\n",
        "    x=self.relu(self.bn1(self.conv2(x)))\n",
        "    x=self.relu(self.bn2(self.conv3(x)))\n",
        "    x=self.relu(self.bn3(self.conv4(x)))\n",
        "    x=x.view(-1,256*16*16)\n",
        "    x1=x;\n",
        "    x=self.relu(self.bn4(self.fc1(x)))\n",
        "    x=self.sigmoid(self.fc2(x))\n",
        "\n",
        "    return x,x1\n",
        "class VAE_GAN(nn.Module):\n",
        "  def __init__(self):\n",
        "    super(VAE_GAN,self).__init__()\n",
        "    self.encoder=Encoder()\n",
        "    self.decoder=Decoder()\n",
        "    self.discriminator=Discriminator()\n",
        "    self.encoder.apply(weights_init)\n",
        "    self.decoder.apply(weights_init)\n",
        "    self.discriminator.apply(weights_init)\n",
        "\n",
        "\n",
        "  def forward(self,x):\n",
        "    bs=x.size()[0]\n",
        "    z_mean,z_logvar=self.encoder(x)\n",
        "    std = z_logvar.mul(0.5).exp_()\n",
        "        \n",
        "    #sampling epsilon from normal distribution\n",
        "    epsilon=Variable(torch.randn(bs,128)).to(device)\n",
        "    z=z_mean+std*epsilon\n",
        "    x_tilda=self.decoder(z)\n",
        "      \n",
        "    return z_mean,z_logvar,x_tilda\n",
        "    "
      ]
    },
    {
      "cell_type": "code",
      "execution_count": 6,
      "metadata": {
        "id": "fMfmseD416EG"
      },
      "outputs": [],
      "source": [
        "def show_and_save(file_name,img):\n",
        "    npimg = np.transpose(img.numpy(),(1,2,0))\n",
        "    f = \"generated-VAEGANs/%s.png\" % file_name\n",
        "    fig = plt.figure(dpi=200)\n",
        "    fig.suptitle(file_name, fontsize=14, fontweight='bold')\n",
        "    #plt.imshow(npimg)\n",
        "    plt.imsave(f,npimg)\n",
        "def plot_loss(loss_list):\n",
        "    plt.figure(figsize=(10,5))\n",
        "    plt.title(\"Loss During Training\")\n",
        "    plt.plot(loss_list,label=\"Loss\")\n",
        "    \n",
        "    plt.xlabel(\"iterations\")\n",
        "    plt.ylabel(\"Loss\")\n",
        "    plt.legend()\n",
        "    plt.show()\n"
      ]
    },
    {
      "cell_type": "code",
      "execution_count": 7,
      "metadata": {
        "id": "YBpjgTcX16EI"
      },
      "outputs": [],
      "source": [
        "# scale an array of images to a new size\n",
        "def scale_images(images, new_shape):\n",
        " images_list = list()\n",
        " for image in images:\n",
        "       # resize with nearest neighbor interpolation\n",
        "       new_image = resize(image, new_shape, 0)\n",
        "       # store\n",
        "       images_list.append(new_image)\n",
        " return asarray(images_list)\n",
        " \n",
        "# calculate frechet inception distance\n",
        "def calculate_fid(model, images1, images2):\n",
        " # calculate activations\n",
        " act1 = model.predict(images1)\n",
        " act2 = model.predict(images2)\n",
        " # calculate mean and covariance statistics\n",
        " mu1, sigma1 = act1.mean(axis=0), cov(act1, rowvar=False)\n",
        " mu2, sigma2 = act2.mean(axis=0), cov(act2, rowvar=False)\n",
        " # calculate sum squared difference between means\n",
        " ssdiff = np.sum((mu1 - mu2)**2.0)\n",
        " # calculate sqrt of product between cov\n",
        " covmean = sqrtm(sigma1.dot(sigma2))\n",
        " # check and correct imaginary numbers from sqrt\n",
        " if iscomplexobj(covmean):\n",
        "        covmean = covmean.real\n",
        " # calculate score\n",
        " fid = ssdiff + trace(sigma1 + sigma2 - 2.0 * covmean)\n",
        " return fid\n"
      ]
    },
    {
      "cell_type": "code",
      "execution_count": 8,
      "metadata": {
        "colab": {
          "base_uri": "https://localhost:8080/"
        },
        "id": "xdofsrU616EI",
        "outputId": "0ce5ee27-ccc7-49ed-eca1-bbf212efe451"
      },
      "outputs": [
        {
          "name": "stdout",
          "output_type": "stream",
          "text": [
            "Downloading data from https://storage.googleapis.com/tensorflow/keras-applications/inception_v3/inception_v3_weights_tf_dim_ordering_tf_kernels_notop.h5\n",
            "87910968/87910968 [==============================] - 4s 0us/step\n",
            "Prepared (10, 32, 32, 3) (10, 32, 32, 3)\n",
            "Scaled (10, 128, 128, 3) (10, 128, 128, 3)\n",
            "1/1 [==============================] - 10s 10s/step\n",
            "1/1 [==============================] - 0s 32ms/step\n",
            "FID (same): -0.001\n",
            "1/1 [==============================] - 0s 41ms/step\n",
            "1/1 [==============================] - 0s 39ms/step\n"
          ]
        }
      ],
      "source": [
        "#TEST\n",
        "\n",
        "# prepare the inception v3 model\n",
        "model = InceptionV3(include_top=False, pooling='avg', input_shape=(128,128,3))\n",
        "# define two fake collections of images\n",
        "images1 = randint(0, 255, 10*32*32*3)\n",
        "images1 = images1.reshape((10,32,32,3))\n",
        "images2 = randint(0, 255, 10*32*32*3)\n",
        "images2 = images2.reshape((10,32,32,3))\n",
        "print('Prepared', images1.shape, images2.shape)\n",
        "# convert integer to floating point values\n",
        "images1 = images1.astype('float32')\n",
        "images2 = images2.astype('float32')\n",
        "# resize images\n",
        "images1 = scale_images(images1, (128,128,3))\n",
        "images2 = scale_images(images2, (128,128,3))\n",
        "print('Scaled', images1.shape, images2.shape)\n",
        "# pre-process images\n",
        "images1 = preprocess_input(images1)\n",
        "images2 = preprocess_input(images2)\n",
        "# fid between images1 and images1\n",
        "fid = calculate_fid(model, images1, images1)\n",
        "print('FID (same): %.3f' % fid)\n",
        "# fid between images1 and images2\n",
        "fid = calculate_fid(model, images1, images2)"
      ]
    },
    {
      "cell_type": "code",
      "execution_count": 12,
      "metadata": {
        "id": "EOXYgK-I7-Ic"
      },
      "outputs": [],
      "source": [
        "model = InceptionV3(include_top=False, pooling='avg', input_shape=(128,128,3))\n",
        "data_loader=dataloader(20)\n",
        "gen=VAE_GAN().to(device)\n",
        "discrim=Discriminator().to(device)\n",
        "real_batch = next(iter(data_loader))"
      ]
    },
    {
      "cell_type": "code",
      "execution_count": null,
      "metadata": {},
      "outputs": [
        {
          "name": "stderr",
          "output_type": "stream",
          "text": [
            "c:\\Users\\Shehab\\anaconda3\\lib\\site-packages\\torchvision\\transforms\\functional.py:1603: UserWarning: The default value of the antialias parameter of all the resizing transforms (Resize(), RandomResizedCrop(), etc.) will change from None to True in v0.17, in order to be consistent across the PIL and Tensor backends. To suppress this warning, directly pass antialias=True (recommended, future default), antialias=None (current default, which means False for Tensors and True for PIL), or antialias=False (only works on Tensors - PIL will still use antialiasing). This also applies if you are using the inference transforms from the models weights: update the call to weights.transforms(antialias=True).\n",
            "  warnings.warn(\n"
          ]
        },
        {
          "name": "stdout",
          "output_type": "stream",
          "text": [
            "[0/100][0/8]\tLoss_gan: 3.8612\tLoss_prior: 0.1299\tRec_loss: 0.6677\tdis_real_loss: 1.0504\tdis_fake_loss: 1.3410\tdis_prior_loss: 1.4699\n",
            "[1/100][0/8]\tLoss_gan: 2.0361\tLoss_prior: 1.3600\tRec_loss: 0.3997\tdis_real_loss: 0.6877\tdis_fake_loss: 0.6844\tdis_prior_loss: 0.6640\n",
            "[2/100][0/8]\tLoss_gan: 2.2258\tLoss_prior: 0.2926\tRec_loss: 0.2894\tdis_real_loss: 0.7403\tdis_fake_loss: 0.6838\tdis_prior_loss: 0.8017\n",
            "[3/100][0/8]\tLoss_gan: 1.9078\tLoss_prior: 0.3099\tRec_loss: 0.2715\tdis_real_loss: 0.7249\tdis_fake_loss: 0.6061\tdis_prior_loss: 0.5769\n",
            "[4/100][0/8]\tLoss_gan: 1.9263\tLoss_prior: 0.2164\tRec_loss: 0.2164\tdis_real_loss: 0.7498\tdis_fake_loss: 0.5908\tdis_prior_loss: 0.5857\n",
            "[5/100][0/8]\tLoss_gan: 1.8413\tLoss_prior: 0.3789\tRec_loss: 0.2410\tdis_real_loss: 0.7609\tdis_fake_loss: 0.5550\tdis_prior_loss: 0.5254\n",
            "[6/100][0/8]\tLoss_gan: 1.7581\tLoss_prior: 0.1609\tRec_loss: 0.2721\tdis_real_loss: 0.7081\tdis_fake_loss: 0.5340\tdis_prior_loss: 0.5160\n",
            "[7/100][0/8]\tLoss_gan: 1.6643\tLoss_prior: 0.1986\tRec_loss: 0.2642\tdis_real_loss: 0.6408\tdis_fake_loss: 0.5183\tdis_prior_loss: 0.5052\n",
            "[8/100][0/8]\tLoss_gan: 1.7313\tLoss_prior: 0.1746\tRec_loss: 0.2649\tdis_real_loss: 0.7525\tdis_fake_loss: 0.5016\tdis_prior_loss: 0.4772\n",
            "[9/100][0/8]\tLoss_gan: 2.1943\tLoss_prior: 0.2571\tRec_loss: 0.2164\tdis_real_loss: 0.9145\tdis_fake_loss: 0.6671\tdis_prior_loss: 0.6126\n"
          ]
        },
        {
          "name": "stderr",
          "output_type": "stream",
          "text": [
            "C:\\Users\\Shehab\\AppData\\Local\\Temp\\ipykernel_16152\\356769395.py:4: RuntimeWarning: More than 20 figures have been opened. Figures created through the pyplot interface (`matplotlib.pyplot.figure`) are retained until explicitly closed and may consume too much memory. (To control this warning, see the rcParam `figure.max_open_warning`).\n",
            "  fig = plt.figure(dpi=200)\n"
          ]
        },
        {
          "name": "stdout",
          "output_type": "stream",
          "text": [
            "[10/100][0/8]\tLoss_gan: 1.6982\tLoss_prior: 0.1538\tRec_loss: 0.2540\tdis_real_loss: 0.7653\tdis_fake_loss: 0.4845\tdis_prior_loss: 0.4484\n",
            "[11/100][0/8]\tLoss_gan: 1.8544\tLoss_prior: 0.2936\tRec_loss: 0.2407\tdis_real_loss: 0.9156\tdis_fake_loss: 0.4892\tdis_prior_loss: 0.4496\n",
            "[12/100][0/8]\tLoss_gan: 1.6123\tLoss_prior: 0.2596\tRec_loss: 0.2673\tdis_real_loss: 0.7112\tdis_fake_loss: 0.4744\tdis_prior_loss: 0.4267\n",
            "[13/100][0/8]\tLoss_gan: 1.9308\tLoss_prior: 0.2225\tRec_loss: 0.2386\tdis_real_loss: 0.9329\tdis_fake_loss: 0.4640\tdis_prior_loss: 0.5339\n",
            "[14/100][0/8]\tLoss_gan: 1.6530\tLoss_prior: 0.2158\tRec_loss: 0.2761\tdis_real_loss: 0.7793\tdis_fake_loss: 0.4605\tdis_prior_loss: 0.4132\n",
            "[15/100][0/8]\tLoss_gan: 1.8243\tLoss_prior: 0.2101\tRec_loss: 0.2282\tdis_real_loss: 0.8291\tdis_fake_loss: 0.4900\tdis_prior_loss: 0.5053\n",
            "[16/100][0/8]\tLoss_gan: 1.5662\tLoss_prior: 0.2186\tRec_loss: 0.2866\tdis_real_loss: 0.7382\tdis_fake_loss: 0.4235\tdis_prior_loss: 0.4044\n",
            "[17/100][0/8]\tLoss_gan: 1.5556\tLoss_prior: 0.2738\tRec_loss: 0.2730\tdis_real_loss: 0.7466\tdis_fake_loss: 0.4155\tdis_prior_loss: 0.3935\n",
            "[18/100][0/8]\tLoss_gan: 1.6718\tLoss_prior: 0.2786\tRec_loss: 0.2738\tdis_real_loss: 0.8735\tdis_fake_loss: 0.4031\tdis_prior_loss: 0.3952\n",
            "[19/100][0/8]\tLoss_gan: 1.4437\tLoss_prior: 0.2356\tRec_loss: 0.3223\tdis_real_loss: 0.6679\tdis_fake_loss: 0.3892\tdis_prior_loss: 0.3866\n",
            "[20/100][0/8]\tLoss_gan: 1.4403\tLoss_prior: 0.1665\tRec_loss: 0.2980\tdis_real_loss: 0.6774\tdis_fake_loss: 0.3963\tdis_prior_loss: 0.3666\n",
            "[21/100][0/8]\tLoss_gan: 1.7284\tLoss_prior: 0.1979\tRec_loss: 0.2508\tdis_real_loss: 0.9286\tdis_fake_loss: 0.3857\tdis_prior_loss: 0.4141\n",
            "[22/100][0/8]\tLoss_gan: 1.5170\tLoss_prior: 0.1809\tRec_loss: 0.2900\tdis_real_loss: 0.7650\tdis_fake_loss: 0.3820\tdis_prior_loss: 0.3700\n",
            "[23/100][0/8]\tLoss_gan: 1.4311\tLoss_prior: 0.1649\tRec_loss: 0.3056\tdis_real_loss: 0.6952\tdis_fake_loss: 0.3665\tdis_prior_loss: 0.3694\n",
            "[24/100][0/8]\tLoss_gan: 1.5620\tLoss_prior: 0.1440\tRec_loss: 0.2908\tdis_real_loss: 0.8297\tdis_fake_loss: 0.3790\tdis_prior_loss: 0.3533\n",
            "[25/100][0/8]\tLoss_gan: 1.5401\tLoss_prior: 0.1422\tRec_loss: 0.3050\tdis_real_loss: 0.8476\tdis_fake_loss: 0.3585\tdis_prior_loss: 0.3340\n",
            "[26/100][0/8]\tLoss_gan: 1.3398\tLoss_prior: 0.1287\tRec_loss: 0.3170\tdis_real_loss: 0.6653\tdis_fake_loss: 0.3425\tdis_prior_loss: 0.3319\n",
            "[27/100][0/8]\tLoss_gan: 1.3420\tLoss_prior: 0.1776\tRec_loss: 0.3430\tdis_real_loss: 0.6696\tdis_fake_loss: 0.3355\tdis_prior_loss: 0.3370\n",
            "[28/100][0/8]\tLoss_gan: 1.3208\tLoss_prior: 0.1378\tRec_loss: 0.3468\tdis_real_loss: 0.6603\tdis_fake_loss: 0.3484\tdis_prior_loss: 0.3121\n",
            "[29/100][0/8]\tLoss_gan: 1.4475\tLoss_prior: 0.1324\tRec_loss: 0.3463\tdis_real_loss: 0.7457\tdis_fake_loss: 0.3456\tdis_prior_loss: 0.3562\n",
            "[30/100][0/8]\tLoss_gan: 1.5786\tLoss_prior: 0.1777\tRec_loss: 0.2817\tdis_real_loss: 0.8630\tdis_fake_loss: 0.3356\tdis_prior_loss: 0.3799\n",
            "[31/100][0/8]\tLoss_gan: 1.3484\tLoss_prior: 0.1523\tRec_loss: 0.3258\tdis_real_loss: 0.7197\tdis_fake_loss: 0.3241\tdis_prior_loss: 0.3046\n",
            "[32/100][0/8]\tLoss_gan: 1.2360\tLoss_prior: 0.1589\tRec_loss: 0.3465\tdis_real_loss: 0.6357\tdis_fake_loss: 0.3110\tdis_prior_loss: 0.2893\n",
            "[33/100][0/8]\tLoss_gan: 1.6898\tLoss_prior: 0.1290\tRec_loss: 0.3308\tdis_real_loss: 0.8758\tdis_fake_loss: 0.3384\tdis_prior_loss: 0.4756\n",
            "[34/100][0/8]\tLoss_gan: 1.2683\tLoss_prior: 0.2789\tRec_loss: 0.3459\tdis_real_loss: 0.6473\tdis_fake_loss: 0.3131\tdis_prior_loss: 0.3079\n",
            "[35/100][0/8]\tLoss_gan: 1.2706\tLoss_prior: 0.1926\tRec_loss: 0.3377\tdis_real_loss: 0.6300\tdis_fake_loss: 0.3016\tdis_prior_loss: 0.3389\n",
            "[36/100][0/8]\tLoss_gan: 1.3439\tLoss_prior: 0.1477\tRec_loss: 0.3568\tdis_real_loss: 0.6903\tdis_fake_loss: 0.3122\tdis_prior_loss: 0.3415\n",
            "[37/100][0/8]\tLoss_gan: 1.4629\tLoss_prior: 0.1446\tRec_loss: 0.3021\tdis_real_loss: 0.8575\tdis_fake_loss: 0.3025\tdis_prior_loss: 0.3029\n",
            "[38/100][0/8]\tLoss_gan: 1.3875\tLoss_prior: 0.1720\tRec_loss: 0.3322\tdis_real_loss: 0.8185\tdis_fake_loss: 0.2865\tdis_prior_loss: 0.2825\n",
            "[39/100][0/8]\tLoss_gan: 1.4380\tLoss_prior: 0.1598\tRec_loss: 0.3361\tdis_real_loss: 0.8266\tdis_fake_loss: 0.2943\tdis_prior_loss: 0.3171\n",
            "[40/100][0/8]\tLoss_gan: 1.2201\tLoss_prior: 0.1460\tRec_loss: 0.3180\tdis_real_loss: 0.6495\tdis_fake_loss: 0.2780\tdis_prior_loss: 0.2926\n",
            "[41/100][0/8]\tLoss_gan: 1.2018\tLoss_prior: 0.1584\tRec_loss: 0.3412\tdis_real_loss: 0.6459\tdis_fake_loss: 0.2761\tdis_prior_loss: 0.2797\n",
            "[42/100][0/8]\tLoss_gan: 1.5188\tLoss_prior: 0.1797\tRec_loss: 0.3121\tdis_real_loss: 0.8760\tdis_fake_loss: 0.3055\tdis_prior_loss: 0.3372\n",
            "[43/100][0/8]\tLoss_gan: 1.3607\tLoss_prior: 0.1935\tRec_loss: 0.3242\tdis_real_loss: 0.6703\tdis_fake_loss: 0.2896\tdis_prior_loss: 0.4008\n",
            "[44/100][0/8]\tLoss_gan: 1.2986\tLoss_prior: 0.1245\tRec_loss: 0.3682\tdis_real_loss: 0.7460\tdis_fake_loss: 0.2790\tdis_prior_loss: 0.2736\n",
            "[45/100][0/8]\tLoss_gan: 1.1912\tLoss_prior: 0.1398\tRec_loss: 0.3364\tdis_real_loss: 0.6417\tdis_fake_loss: 0.2803\tdis_prior_loss: 0.2693\n",
            "[46/100][0/8]\tLoss_gan: 1.3243\tLoss_prior: 0.1517\tRec_loss: 0.3061\tdis_real_loss: 0.7094\tdis_fake_loss: 0.2830\tdis_prior_loss: 0.3319\n",
            "[47/100][0/8]\tLoss_gan: 1.3034\tLoss_prior: 0.2255\tRec_loss: 0.3525\tdis_real_loss: 0.7472\tdis_fake_loss: 0.2710\tdis_prior_loss: 0.2852\n",
            "[48/100][0/8]\tLoss_gan: 1.1643\tLoss_prior: 0.1639\tRec_loss: 0.3250\tdis_real_loss: 0.6230\tdis_fake_loss: 0.2670\tdis_prior_loss: 0.2743\n",
            "[49/100][0/8]\tLoss_gan: 1.3326\tLoss_prior: 0.1672\tRec_loss: 0.3101\tdis_real_loss: 0.7823\tdis_fake_loss: 0.2788\tdis_prior_loss: 0.2714\n",
            "[50/100][0/8]\tLoss_gan: 1.2324\tLoss_prior: 0.1418\tRec_loss: 0.2988\tdis_real_loss: 0.7053\tdis_fake_loss: 0.2534\tdis_prior_loss: 0.2737\n",
            "[51/100][0/8]\tLoss_gan: 1.2343\tLoss_prior: 0.1698\tRec_loss: 0.3377\tdis_real_loss: 0.6398\tdis_fake_loss: 0.2759\tdis_prior_loss: 0.3186\n",
            "[52/100][0/8]\tLoss_gan: 1.2944\tLoss_prior: 0.1695\tRec_loss: 0.2816\tdis_real_loss: 0.6981\tdis_fake_loss: 0.2860\tdis_prior_loss: 0.3104\n",
            "[53/100][0/8]\tLoss_gan: 1.3753\tLoss_prior: 0.1584\tRec_loss: 0.3190\tdis_real_loss: 0.7431\tdis_fake_loss: 0.2572\tdis_prior_loss: 0.3750\n",
            "[54/100][0/8]\tLoss_gan: 1.1606\tLoss_prior: 0.2132\tRec_loss: 0.3227\tdis_real_loss: 0.6319\tdis_fake_loss: 0.2620\tdis_prior_loss: 0.2667\n",
            "[55/100][0/8]\tLoss_gan: 1.2090\tLoss_prior: 0.1918\tRec_loss: 0.3233\tdis_real_loss: 0.6541\tdis_fake_loss: 0.2667\tdis_prior_loss: 0.2882\n",
            "[56/100][0/8]\tLoss_gan: 1.2005\tLoss_prior: 0.1710\tRec_loss: 0.3208\tdis_real_loss: 0.6301\tdis_fake_loss: 0.2718\tdis_prior_loss: 0.2985\n",
            "[57/100][0/8]\tLoss_gan: 1.2549\tLoss_prior: 0.1717\tRec_loss: 0.2847\tdis_real_loss: 0.7112\tdis_fake_loss: 0.2644\tdis_prior_loss: 0.2793\n",
            "[58/100][0/8]\tLoss_gan: 1.3324\tLoss_prior: 0.1783\tRec_loss: 0.3050\tdis_real_loss: 0.8161\tdis_fake_loss: 0.2591\tdis_prior_loss: 0.2572\n",
            "[59/100][0/8]\tLoss_gan: 1.3317\tLoss_prior: 0.2027\tRec_loss: 0.2760\tdis_real_loss: 0.6110\tdis_fake_loss: 0.3013\tdis_prior_loss: 0.4193\n",
            "[60/100][0/8]\tLoss_gan: 1.2150\tLoss_prior: 0.2390\tRec_loss: 0.3075\tdis_real_loss: 0.5921\tdis_fake_loss: 0.2564\tdis_prior_loss: 0.3664\n",
            "[61/100][0/8]\tLoss_gan: 1.1575\tLoss_prior: 0.1639\tRec_loss: 0.3045\tdis_real_loss: 0.6166\tdis_fake_loss: 0.2361\tdis_prior_loss: 0.3049\n",
            "[62/100][0/8]\tLoss_gan: 1.1049\tLoss_prior: 0.2142\tRec_loss: 0.3262\tdis_real_loss: 0.5720\tdis_fake_loss: 0.2446\tdis_prior_loss: 0.2883\n",
            "[63/100][0/8]\tLoss_gan: 1.1107\tLoss_prior: 0.1820\tRec_loss: 0.2962\tdis_real_loss: 0.6026\tdis_fake_loss: 0.2477\tdis_prior_loss: 0.2604\n",
            "[64/100][0/8]\tLoss_gan: 1.4129\tLoss_prior: 0.2721\tRec_loss: 0.2957\tdis_real_loss: 0.7947\tdis_fake_loss: 0.3238\tdis_prior_loss: 0.2945\n",
            "[65/100][0/8]\tLoss_gan: 1.8272\tLoss_prior: 0.1631\tRec_loss: 0.2568\tdis_real_loss: 1.0384\tdis_fake_loss: 0.3106\tdis_prior_loss: 0.4782\n",
            "[66/100][0/8]\tLoss_gan: 1.3207\tLoss_prior: 0.1572\tRec_loss: 0.2736\tdis_real_loss: 0.7189\tdis_fake_loss: 0.2671\tdis_prior_loss: 0.3347\n",
            "[67/100][0/8]\tLoss_gan: 1.0825\tLoss_prior: 0.1851\tRec_loss: 0.2743\tdis_real_loss: 0.5661\tdis_fake_loss: 0.2625\tdis_prior_loss: 0.2538\n",
            "[68/100][0/8]\tLoss_gan: 1.1492\tLoss_prior: 0.1362\tRec_loss: 0.3025\tdis_real_loss: 0.6356\tdis_fake_loss: 0.2607\tdis_prior_loss: 0.2529\n",
            "[69/100][0/8]\tLoss_gan: 1.0836\tLoss_prior: 0.1497\tRec_loss: 0.3156\tdis_real_loss: 0.5547\tdis_fake_loss: 0.2582\tdis_prior_loss: 0.2708\n",
            "[70/100][0/8]\tLoss_gan: 1.3042\tLoss_prior: 0.1857\tRec_loss: 0.2877\tdis_real_loss: 0.8313\tdis_fake_loss: 0.2358\tdis_prior_loss: 0.2372\n",
            "[71/100][0/8]\tLoss_gan: 1.1842\tLoss_prior: 0.2349\tRec_loss: 0.3034\tdis_real_loss: 0.6144\tdis_fake_loss: 0.2428\tdis_prior_loss: 0.3271\n",
            "[72/100][0/8]\tLoss_gan: 1.0680\tLoss_prior: 0.1754\tRec_loss: 0.2712\tdis_real_loss: 0.5444\tdis_fake_loss: 0.2561\tdis_prior_loss: 0.2676\n",
            "[73/100][0/8]\tLoss_gan: 1.2734\tLoss_prior: 0.1823\tRec_loss: 0.2961\tdis_real_loss: 0.7216\tdis_fake_loss: 0.2642\tdis_prior_loss: 0.2877\n",
            "[74/100][0/8]\tLoss_gan: 1.2845\tLoss_prior: 0.2368\tRec_loss: 0.2858\tdis_real_loss: 0.6456\tdis_fake_loss: 0.2776\tdis_prior_loss: 0.3612\n",
            "[75/100][0/8]\tLoss_gan: 1.2357\tLoss_prior: 0.1521\tRec_loss: 0.2587\tdis_real_loss: 0.6817\tdis_fake_loss: 0.2396\tdis_prior_loss: 0.3144\n",
            "[76/100][0/8]\tLoss_gan: 1.1478\tLoss_prior: 0.2112\tRec_loss: 0.2656\tdis_real_loss: 0.5986\tdis_fake_loss: 0.2594\tdis_prior_loss: 0.2897\n",
            "[77/100][0/8]\tLoss_gan: 1.0191\tLoss_prior: 0.1878\tRec_loss: 0.2827\tdis_real_loss: 0.5571\tdis_fake_loss: 0.2223\tdis_prior_loss: 0.2398\n",
            "[78/100][0/8]\tLoss_gan: 1.2207\tLoss_prior: 0.1764\tRec_loss: 0.2915\tdis_real_loss: 0.7580\tdis_fake_loss: 0.2311\tdis_prior_loss: 0.2316\n",
            "[79/100][0/8]\tLoss_gan: 1.1755\tLoss_prior: 0.2209\tRec_loss: 0.2975\tdis_real_loss: 0.6641\tdis_fake_loss: 0.2475\tdis_prior_loss: 0.2639\n",
            "[80/100][0/8]\tLoss_gan: 1.2185\tLoss_prior: 0.1653\tRec_loss: 0.3100\tdis_real_loss: 0.6704\tdis_fake_loss: 0.2555\tdis_prior_loss: 0.2927\n",
            "[81/100][0/8]\tLoss_gan: 1.1053\tLoss_prior: 0.2212\tRec_loss: 0.3057\tdis_real_loss: 0.6280\tdis_fake_loss: 0.2369\tdis_prior_loss: 0.2404\n",
            "[82/100][0/8]\tLoss_gan: 1.1991\tLoss_prior: 0.1698\tRec_loss: 0.2346\tdis_real_loss: 0.6547\tdis_fake_loss: 0.2523\tdis_prior_loss: 0.2920\n",
            "[83/100][0/8]\tLoss_gan: 1.0228\tLoss_prior: 0.1708\tRec_loss: 0.2655\tdis_real_loss: 0.5327\tdis_fake_loss: 0.2454\tdis_prior_loss: 0.2447\n",
            "[84/100][0/8]\tLoss_gan: 1.1704\tLoss_prior: 0.1757\tRec_loss: 0.2778\tdis_real_loss: 0.5704\tdis_fake_loss: 0.3042\tdis_prior_loss: 0.2958\n",
            "[85/100][0/8]\tLoss_gan: 1.1579\tLoss_prior: 0.1971\tRec_loss: 0.3022\tdis_real_loss: 0.5466\tdis_fake_loss: 0.2705\tdis_prior_loss: 0.3407\n",
            "[86/100][0/8]\tLoss_gan: 1.0288\tLoss_prior: 0.1892\tRec_loss: 0.2872\tdis_real_loss: 0.5759\tdis_fake_loss: 0.2249\tdis_prior_loss: 0.2280\n",
            "[87/100][0/8]\tLoss_gan: 1.0967\tLoss_prior: 0.2214\tRec_loss: 0.2439\tdis_real_loss: 0.5974\tdis_fake_loss: 0.2544\tdis_prior_loss: 0.2449\n",
            "[88/100][0/8]\tLoss_gan: 1.1945\tLoss_prior: 0.1876\tRec_loss: 0.2568\tdis_real_loss: 0.6207\tdis_fake_loss: 0.2645\tdis_prior_loss: 0.3093\n",
            "[89/100][0/8]\tLoss_gan: 1.1134\tLoss_prior: 0.1661\tRec_loss: 0.2776\tdis_real_loss: 0.6280\tdis_fake_loss: 0.2314\tdis_prior_loss: 0.2540\n",
            "[90/100][0/8]\tLoss_gan: 1.4405\tLoss_prior: 0.1752\tRec_loss: 0.2694\tdis_real_loss: 0.6215\tdis_fake_loss: 0.3369\tdis_prior_loss: 0.4821\n",
            "[91/100][0/8]\tLoss_gan: 1.0652\tLoss_prior: 0.1877\tRec_loss: 0.2400\tdis_real_loss: 0.5797\tdis_fake_loss: 0.2459\tdis_prior_loss: 0.2396\n",
            "[92/100][0/8]\tLoss_gan: 1.1476\tLoss_prior: 0.1981\tRec_loss: 0.2966\tdis_real_loss: 0.6407\tdis_fake_loss: 0.2287\tdis_prior_loss: 0.2781\n",
            "[93/100][0/8]\tLoss_gan: 0.9953\tLoss_prior: 0.2288\tRec_loss: 0.2750\tdis_real_loss: 0.5395\tdis_fake_loss: 0.2311\tdis_prior_loss: 0.2247\n",
            "[94/100][0/8]\tLoss_gan: 1.4410\tLoss_prior: 0.1808\tRec_loss: 0.2208\tdis_real_loss: 0.8273\tdis_fake_loss: 0.2470\tdis_prior_loss: 0.3667\n",
            "[95/100][0/8]\tLoss_gan: 1.0911\tLoss_prior: 0.2065\tRec_loss: 0.2571\tdis_real_loss: 0.5725\tdis_fake_loss: 0.2379\tdis_prior_loss: 0.2807\n",
            "[96/100][0/8]\tLoss_gan: 1.1711\tLoss_prior: 0.2057\tRec_loss: 0.2434\tdis_real_loss: 0.6535\tdis_fake_loss: 0.2531\tdis_prior_loss: 0.2644\n",
            "[97/100][0/8]\tLoss_gan: 1.2138\tLoss_prior: 0.1849\tRec_loss: 0.2317\tdis_real_loss: 0.6678\tdis_fake_loss: 0.2747\tdis_prior_loss: 0.2712\n",
            "[98/100][0/8]\tLoss_gan: 1.3569\tLoss_prior: 0.2217\tRec_loss: 0.2615\tdis_real_loss: 0.7123\tdis_fake_loss: 0.2681\tdis_prior_loss: 0.3765\n",
            "[99/100][0/8]\tLoss_gan: 1.2783\tLoss_prior: 0.1938\tRec_loss: 0.2619\tdis_real_loss: 0.8005\tdis_fake_loss: 0.2368\tdis_prior_loss: 0.2410\n"
          ]
        },
        {
          "data": {
            "text/plain": [
              "<Figure size 1280x960 with 0 Axes>"
            ]
          },
          "metadata": {},
          "output_type": "display_data"
        },
        {
          "data": {
            "text/plain": [
              "<Figure size 1280x960 with 0 Axes>"
            ]
          },
          "metadata": {},
          "output_type": "display_data"
        },
        {
          "data": {
            "text/plain": [
              "<Figure size 1280x960 with 0 Axes>"
            ]
          },
          "metadata": {},
          "output_type": "display_data"
        },
        {
          "data": {
            "text/plain": [
              "<Figure size 1280x960 with 0 Axes>"
            ]
          },
          "metadata": {},
          "output_type": "display_data"
        },
        {
          "data": {
            "text/plain": [
              "<Figure size 1280x960 with 0 Axes>"
            ]
          },
          "metadata": {},
          "output_type": "display_data"
        },
        {
          "data": {
            "text/plain": [
              "<Figure size 1280x960 with 0 Axes>"
            ]
          },
          "metadata": {},
          "output_type": "display_data"
        },
        {
          "data": {
            "text/plain": [
              "<Figure size 1280x960 with 0 Axes>"
            ]
          },
          "metadata": {},
          "output_type": "display_data"
        },
        {
          "data": {
            "text/plain": [
              "<Figure size 1280x960 with 0 Axes>"
            ]
          },
          "metadata": {},
          "output_type": "display_data"
        },
        {
          "data": {
            "text/plain": [
              "<Figure size 1280x960 with 0 Axes>"
            ]
          },
          "metadata": {},
          "output_type": "display_data"
        },
        {
          "data": {
            "text/plain": [
              "<Figure size 1280x960 with 0 Axes>"
            ]
          },
          "metadata": {},
          "output_type": "display_data"
        },
        {
          "data": {
            "text/plain": [
              "<Figure size 1280x960 with 0 Axes>"
            ]
          },
          "metadata": {},
          "output_type": "display_data"
        },
        {
          "data": {
            "text/plain": [
              "<Figure size 1280x960 with 0 Axes>"
            ]
          },
          "metadata": {},
          "output_type": "display_data"
        },
        {
          "data": {
            "text/plain": [
              "<Figure size 1280x960 with 0 Axes>"
            ]
          },
          "metadata": {},
          "output_type": "display_data"
        },
        {
          "data": {
            "text/plain": [
              "<Figure size 1280x960 with 0 Axes>"
            ]
          },
          "metadata": {},
          "output_type": "display_data"
        },
        {
          "data": {
            "text/plain": [
              "<Figure size 1280x960 with 0 Axes>"
            ]
          },
          "metadata": {},
          "output_type": "display_data"
        },
        {
          "data": {
            "text/plain": [
              "<Figure size 1280x960 with 0 Axes>"
            ]
          },
          "metadata": {},
          "output_type": "display_data"
        },
        {
          "data": {
            "text/plain": [
              "<Figure size 1280x960 with 0 Axes>"
            ]
          },
          "metadata": {},
          "output_type": "display_data"
        },
        {
          "data": {
            "text/plain": [
              "<Figure size 1280x960 with 0 Axes>"
            ]
          },
          "metadata": {},
          "output_type": "display_data"
        },
        {
          "data": {
            "text/plain": [
              "<Figure size 1280x960 with 0 Axes>"
            ]
          },
          "metadata": {},
          "output_type": "display_data"
        },
        {
          "data": {
            "text/plain": [
              "<Figure size 1280x960 with 0 Axes>"
            ]
          },
          "metadata": {},
          "output_type": "display_data"
        },
        {
          "data": {
            "text/plain": [
              "<Figure size 1280x960 with 0 Axes>"
            ]
          },
          "metadata": {},
          "output_type": "display_data"
        },
        {
          "data": {
            "text/plain": [
              "<Figure size 1280x960 with 0 Axes>"
            ]
          },
          "metadata": {},
          "output_type": "display_data"
        },
        {
          "data": {
            "text/plain": [
              "<Figure size 1280x960 with 0 Axes>"
            ]
          },
          "metadata": {},
          "output_type": "display_data"
        },
        {
          "data": {
            "text/plain": [
              "<Figure size 1280x960 with 0 Axes>"
            ]
          },
          "metadata": {},
          "output_type": "display_data"
        },
        {
          "data": {
            "text/plain": [
              "<Figure size 1280x960 with 0 Axes>"
            ]
          },
          "metadata": {},
          "output_type": "display_data"
        },
        {
          "data": {
            "text/plain": [
              "<Figure size 1280x960 with 0 Axes>"
            ]
          },
          "metadata": {},
          "output_type": "display_data"
        },
        {
          "data": {
            "text/plain": [
              "<Figure size 1280x960 with 0 Axes>"
            ]
          },
          "metadata": {},
          "output_type": "display_data"
        },
        {
          "data": {
            "text/plain": [
              "<Figure size 1280x960 with 0 Axes>"
            ]
          },
          "metadata": {},
          "output_type": "display_data"
        },
        {
          "data": {
            "text/plain": [
              "<Figure size 1280x960 with 0 Axes>"
            ]
          },
          "metadata": {},
          "output_type": "display_data"
        },
        {
          "data": {
            "text/plain": [
              "<Figure size 1280x960 with 0 Axes>"
            ]
          },
          "metadata": {},
          "output_type": "display_data"
        },
        {
          "data": {
            "text/plain": [
              "<Figure size 1280x960 with 0 Axes>"
            ]
          },
          "metadata": {},
          "output_type": "display_data"
        },
        {
          "data": {
            "text/plain": [
              "<Figure size 1280x960 with 0 Axes>"
            ]
          },
          "metadata": {},
          "output_type": "display_data"
        },
        {
          "data": {
            "text/plain": [
              "<Figure size 1280x960 with 0 Axes>"
            ]
          },
          "metadata": {},
          "output_type": "display_data"
        },
        {
          "data": {
            "text/plain": [
              "<Figure size 1280x960 with 0 Axes>"
            ]
          },
          "metadata": {},
          "output_type": "display_data"
        },
        {
          "data": {
            "text/plain": [
              "<Figure size 1280x960 with 0 Axes>"
            ]
          },
          "metadata": {},
          "output_type": "display_data"
        },
        {
          "data": {
            "text/plain": [
              "<Figure size 1280x960 with 0 Axes>"
            ]
          },
          "metadata": {},
          "output_type": "display_data"
        },
        {
          "data": {
            "text/plain": [
              "<Figure size 1280x960 with 0 Axes>"
            ]
          },
          "metadata": {},
          "output_type": "display_data"
        },
        {
          "data": {
            "text/plain": [
              "<Figure size 1280x960 with 0 Axes>"
            ]
          },
          "metadata": {},
          "output_type": "display_data"
        },
        {
          "data": {
            "text/plain": [
              "<Figure size 1280x960 with 0 Axes>"
            ]
          },
          "metadata": {},
          "output_type": "display_data"
        },
        {
          "data": {
            "text/plain": [
              "<Figure size 1280x960 with 0 Axes>"
            ]
          },
          "metadata": {},
          "output_type": "display_data"
        },
        {
          "data": {
            "text/plain": [
              "<Figure size 1280x960 with 0 Axes>"
            ]
          },
          "metadata": {},
          "output_type": "display_data"
        },
        {
          "data": {
            "text/plain": [
              "<Figure size 1280x960 with 0 Axes>"
            ]
          },
          "metadata": {},
          "output_type": "display_data"
        },
        {
          "data": {
            "text/plain": [
              "<Figure size 1280x960 with 0 Axes>"
            ]
          },
          "metadata": {},
          "output_type": "display_data"
        },
        {
          "data": {
            "text/plain": [
              "<Figure size 1280x960 with 0 Axes>"
            ]
          },
          "metadata": {},
          "output_type": "display_data"
        },
        {
          "data": {
            "text/plain": [
              "<Figure size 1280x960 with 0 Axes>"
            ]
          },
          "metadata": {},
          "output_type": "display_data"
        },
        {
          "data": {
            "text/plain": [
              "<Figure size 1280x960 with 0 Axes>"
            ]
          },
          "metadata": {},
          "output_type": "display_data"
        },
        {
          "data": {
            "text/plain": [
              "<Figure size 1280x960 with 0 Axes>"
            ]
          },
          "metadata": {},
          "output_type": "display_data"
        },
        {
          "data": {
            "text/plain": [
              "<Figure size 1280x960 with 0 Axes>"
            ]
          },
          "metadata": {},
          "output_type": "display_data"
        },
        {
          "data": {
            "text/plain": [
              "<Figure size 1280x960 with 0 Axes>"
            ]
          },
          "metadata": {},
          "output_type": "display_data"
        },
        {
          "data": {
            "text/plain": [
              "<Figure size 1280x960 with 0 Axes>"
            ]
          },
          "metadata": {},
          "output_type": "display_data"
        },
        {
          "data": {
            "text/plain": [
              "<Figure size 1280x960 with 0 Axes>"
            ]
          },
          "metadata": {},
          "output_type": "display_data"
        },
        {
          "data": {
            "text/plain": [
              "<Figure size 1280x960 with 0 Axes>"
            ]
          },
          "metadata": {},
          "output_type": "display_data"
        },
        {
          "data": {
            "text/plain": [
              "<Figure size 1280x960 with 0 Axes>"
            ]
          },
          "metadata": {},
          "output_type": "display_data"
        },
        {
          "data": {
            "text/plain": [
              "<Figure size 1280x960 with 0 Axes>"
            ]
          },
          "metadata": {},
          "output_type": "display_data"
        },
        {
          "data": {
            "text/plain": [
              "<Figure size 1280x960 with 0 Axes>"
            ]
          },
          "metadata": {},
          "output_type": "display_data"
        },
        {
          "data": {
            "text/plain": [
              "<Figure size 1280x960 with 0 Axes>"
            ]
          },
          "metadata": {},
          "output_type": "display_data"
        },
        {
          "data": {
            "text/plain": [
              "<Figure size 1280x960 with 0 Axes>"
            ]
          },
          "metadata": {},
          "output_type": "display_data"
        },
        {
          "data": {
            "text/plain": [
              "<Figure size 1280x960 with 0 Axes>"
            ]
          },
          "metadata": {},
          "output_type": "display_data"
        },
        {
          "data": {
            "text/plain": [
              "<Figure size 1280x960 with 0 Axes>"
            ]
          },
          "metadata": {},
          "output_type": "display_data"
        },
        {
          "data": {
            "text/plain": [
              "<Figure size 1280x960 with 0 Axes>"
            ]
          },
          "metadata": {},
          "output_type": "display_data"
        },
        {
          "data": {
            "text/plain": [
              "<Figure size 1280x960 with 0 Axes>"
            ]
          },
          "metadata": {},
          "output_type": "display_data"
        },
        {
          "data": {
            "text/plain": [
              "<Figure size 1280x960 with 0 Axes>"
            ]
          },
          "metadata": {},
          "output_type": "display_data"
        },
        {
          "data": {
            "text/plain": [
              "<Figure size 1280x960 with 0 Axes>"
            ]
          },
          "metadata": {},
          "output_type": "display_data"
        },
        {
          "data": {
            "text/plain": [
              "<Figure size 1280x960 with 0 Axes>"
            ]
          },
          "metadata": {},
          "output_type": "display_data"
        },
        {
          "data": {
            "text/plain": [
              "<Figure size 1280x960 with 0 Axes>"
            ]
          },
          "metadata": {},
          "output_type": "display_data"
        },
        {
          "data": {
            "text/plain": [
              "<Figure size 1280x960 with 0 Axes>"
            ]
          },
          "metadata": {},
          "output_type": "display_data"
        },
        {
          "data": {
            "text/plain": [
              "<Figure size 1280x960 with 0 Axes>"
            ]
          },
          "metadata": {},
          "output_type": "display_data"
        },
        {
          "data": {
            "text/plain": [
              "<Figure size 1280x960 with 0 Axes>"
            ]
          },
          "metadata": {},
          "output_type": "display_data"
        },
        {
          "data": {
            "text/plain": [
              "<Figure size 1280x960 with 0 Axes>"
            ]
          },
          "metadata": {},
          "output_type": "display_data"
        },
        {
          "data": {
            "text/plain": [
              "<Figure size 1280x960 with 0 Axes>"
            ]
          },
          "metadata": {},
          "output_type": "display_data"
        },
        {
          "data": {
            "text/plain": [
              "<Figure size 1280x960 with 0 Axes>"
            ]
          },
          "metadata": {},
          "output_type": "display_data"
        },
        {
          "data": {
            "text/plain": [
              "<Figure size 1280x960 with 0 Axes>"
            ]
          },
          "metadata": {},
          "output_type": "display_data"
        },
        {
          "data": {
            "text/plain": [
              "<Figure size 1280x960 with 0 Axes>"
            ]
          },
          "metadata": {},
          "output_type": "display_data"
        },
        {
          "data": {
            "text/plain": [
              "<Figure size 1280x960 with 0 Axes>"
            ]
          },
          "metadata": {},
          "output_type": "display_data"
        },
        {
          "data": {
            "text/plain": [
              "<Figure size 1280x960 with 0 Axes>"
            ]
          },
          "metadata": {},
          "output_type": "display_data"
        },
        {
          "data": {
            "text/plain": [
              "<Figure size 1280x960 with 0 Axes>"
            ]
          },
          "metadata": {},
          "output_type": "display_data"
        },
        {
          "data": {
            "text/plain": [
              "<Figure size 1280x960 with 0 Axes>"
            ]
          },
          "metadata": {},
          "output_type": "display_data"
        },
        {
          "data": {
            "text/plain": [
              "<Figure size 1280x960 with 0 Axes>"
            ]
          },
          "metadata": {},
          "output_type": "display_data"
        },
        {
          "data": {
            "text/plain": [
              "<Figure size 1280x960 with 0 Axes>"
            ]
          },
          "metadata": {},
          "output_type": "display_data"
        },
        {
          "data": {
            "text/plain": [
              "<Figure size 1280x960 with 0 Axes>"
            ]
          },
          "metadata": {},
          "output_type": "display_data"
        },
        {
          "data": {
            "text/plain": [
              "<Figure size 1280x960 with 0 Axes>"
            ]
          },
          "metadata": {},
          "output_type": "display_data"
        },
        {
          "data": {
            "text/plain": [
              "<Figure size 1280x960 with 0 Axes>"
            ]
          },
          "metadata": {},
          "output_type": "display_data"
        },
        {
          "data": {
            "text/plain": [
              "<Figure size 1280x960 with 0 Axes>"
            ]
          },
          "metadata": {},
          "output_type": "display_data"
        },
        {
          "data": {
            "text/plain": [
              "<Figure size 1280x960 with 0 Axes>"
            ]
          },
          "metadata": {},
          "output_type": "display_data"
        },
        {
          "data": {
            "text/plain": [
              "<Figure size 1280x960 with 0 Axes>"
            ]
          },
          "metadata": {},
          "output_type": "display_data"
        },
        {
          "data": {
            "text/plain": [
              "<Figure size 1280x960 with 0 Axes>"
            ]
          },
          "metadata": {},
          "output_type": "display_data"
        },
        {
          "data": {
            "text/plain": [
              "<Figure size 1280x960 with 0 Axes>"
            ]
          },
          "metadata": {},
          "output_type": "display_data"
        },
        {
          "data": {
            "text/plain": [
              "<Figure size 1280x960 with 0 Axes>"
            ]
          },
          "metadata": {},
          "output_type": "display_data"
        },
        {
          "data": {
            "text/plain": [
              "<Figure size 1280x960 with 0 Axes>"
            ]
          },
          "metadata": {},
          "output_type": "display_data"
        },
        {
          "data": {
            "text/plain": [
              "<Figure size 1280x960 with 0 Axes>"
            ]
          },
          "metadata": {},
          "output_type": "display_data"
        },
        {
          "data": {
            "text/plain": [
              "<Figure size 1280x960 with 0 Axes>"
            ]
          },
          "metadata": {},
          "output_type": "display_data"
        },
        {
          "data": {
            "text/plain": [
              "<Figure size 1280x960 with 0 Axes>"
            ]
          },
          "metadata": {},
          "output_type": "display_data"
        },
        {
          "data": {
            "text/plain": [
              "<Figure size 1280x960 with 0 Axes>"
            ]
          },
          "metadata": {},
          "output_type": "display_data"
        },
        {
          "data": {
            "text/plain": [
              "<Figure size 1280x960 with 0 Axes>"
            ]
          },
          "metadata": {},
          "output_type": "display_data"
        },
        {
          "data": {
            "text/plain": [
              "<Figure size 1280x960 with 0 Axes>"
            ]
          },
          "metadata": {},
          "output_type": "display_data"
        },
        {
          "data": {
            "text/plain": [
              "<Figure size 1280x960 with 0 Axes>"
            ]
          },
          "metadata": {},
          "output_type": "display_data"
        },
        {
          "data": {
            "text/plain": [
              "<Figure size 1280x960 with 0 Axes>"
            ]
          },
          "metadata": {},
          "output_type": "display_data"
        },
        {
          "data": {
            "text/plain": [
              "<Figure size 1280x960 with 0 Axes>"
            ]
          },
          "metadata": {},
          "output_type": "display_data"
        },
        {
          "data": {
            "text/plain": [
              "<Figure size 1280x960 with 0 Axes>"
            ]
          },
          "metadata": {},
          "output_type": "display_data"
        },
        {
          "data": {
            "text/plain": [
              "<Figure size 1280x960 with 0 Axes>"
            ]
          },
          "metadata": {},
          "output_type": "display_data"
        },
        {
          "data": {
            "text/plain": [
              "<Figure size 1280x960 with 0 Axes>"
            ]
          },
          "metadata": {},
          "output_type": "display_data"
        },
        {
          "data": {
            "text/plain": [
              "<Figure size 1280x960 with 0 Axes>"
            ]
          },
          "metadata": {},
          "output_type": "display_data"
        },
        {
          "data": {
            "text/plain": [
              "<Figure size 1280x960 with 0 Axes>"
            ]
          },
          "metadata": {},
          "output_type": "display_data"
        },
        {
          "data": {
            "text/plain": [
              "<Figure size 1280x960 with 0 Axes>"
            ]
          },
          "metadata": {},
          "output_type": "display_data"
        },
        {
          "data": {
            "text/plain": [
              "<Figure size 1280x960 with 0 Axes>"
            ]
          },
          "metadata": {},
          "output_type": "display_data"
        },
        {
          "data": {
            "text/plain": [
              "<Figure size 1280x960 with 0 Axes>"
            ]
          },
          "metadata": {},
          "output_type": "display_data"
        },
        {
          "data": {
            "text/plain": [
              "<Figure size 1280x960 with 0 Axes>"
            ]
          },
          "metadata": {},
          "output_type": "display_data"
        },
        {
          "data": {
            "text/plain": [
              "<Figure size 1280x960 with 0 Axes>"
            ]
          },
          "metadata": {},
          "output_type": "display_data"
        },
        {
          "data": {
            "text/plain": [
              "<Figure size 1280x960 with 0 Axes>"
            ]
          },
          "metadata": {},
          "output_type": "display_data"
        },
        {
          "data": {
            "text/plain": [
              "<Figure size 1280x960 with 0 Axes>"
            ]
          },
          "metadata": {},
          "output_type": "display_data"
        },
        {
          "data": {
            "text/plain": [
              "<Figure size 1280x960 with 0 Axes>"
            ]
          },
          "metadata": {},
          "output_type": "display_data"
        },
        {
          "data": {
            "text/plain": [
              "<Figure size 1280x960 with 0 Axes>"
            ]
          },
          "metadata": {},
          "output_type": "display_data"
        },
        {
          "data": {
            "text/plain": [
              "<Figure size 1280x960 with 0 Axes>"
            ]
          },
          "metadata": {},
          "output_type": "display_data"
        },
        {
          "data": {
            "text/plain": [
              "<Figure size 1280x960 with 0 Axes>"
            ]
          },
          "metadata": {},
          "output_type": "display_data"
        },
        {
          "data": {
            "text/plain": [
              "<Figure size 1280x960 with 0 Axes>"
            ]
          },
          "metadata": {},
          "output_type": "display_data"
        },
        {
          "data": {
            "text/plain": [
              "<Figure size 1280x960 with 0 Axes>"
            ]
          },
          "metadata": {},
          "output_type": "display_data"
        },
        {
          "data": {
            "text/plain": [
              "<Figure size 1280x960 with 0 Axes>"
            ]
          },
          "metadata": {},
          "output_type": "display_data"
        },
        {
          "data": {
            "text/plain": [
              "<Figure size 1280x960 with 0 Axes>"
            ]
          },
          "metadata": {},
          "output_type": "display_data"
        },
        {
          "data": {
            "text/plain": [
              "<Figure size 1280x960 with 0 Axes>"
            ]
          },
          "metadata": {},
          "output_type": "display_data"
        },
        {
          "data": {
            "text/plain": [
              "<Figure size 1280x960 with 0 Axes>"
            ]
          },
          "metadata": {},
          "output_type": "display_data"
        },
        {
          "data": {
            "text/plain": [
              "<Figure size 1280x960 with 0 Axes>"
            ]
          },
          "metadata": {},
          "output_type": "display_data"
        },
        {
          "data": {
            "text/plain": [
              "<Figure size 1280x960 with 0 Axes>"
            ]
          },
          "metadata": {},
          "output_type": "display_data"
        },
        {
          "data": {
            "text/plain": [
              "<Figure size 1280x960 with 0 Axes>"
            ]
          },
          "metadata": {},
          "output_type": "display_data"
        },
        {
          "data": {
            "text/plain": [
              "<Figure size 1280x960 with 0 Axes>"
            ]
          },
          "metadata": {},
          "output_type": "display_data"
        },
        {
          "data": {
            "text/plain": [
              "<Figure size 1280x960 with 0 Axes>"
            ]
          },
          "metadata": {},
          "output_type": "display_data"
        },
        {
          "data": {
            "text/plain": [
              "<Figure size 1280x960 with 0 Axes>"
            ]
          },
          "metadata": {},
          "output_type": "display_data"
        },
        {
          "data": {
            "text/plain": [
              "<Figure size 1280x960 with 0 Axes>"
            ]
          },
          "metadata": {},
          "output_type": "display_data"
        },
        {
          "data": {
            "text/plain": [
              "<Figure size 1280x960 with 0 Axes>"
            ]
          },
          "metadata": {},
          "output_type": "display_data"
        },
        {
          "data": {
            "text/plain": [
              "<Figure size 1280x960 with 0 Axes>"
            ]
          },
          "metadata": {},
          "output_type": "display_data"
        },
        {
          "data": {
            "text/plain": [
              "<Figure size 1280x960 with 0 Axes>"
            ]
          },
          "metadata": {},
          "output_type": "display_data"
        },
        {
          "data": {
            "text/plain": [
              "<Figure size 1280x960 with 0 Axes>"
            ]
          },
          "metadata": {},
          "output_type": "display_data"
        },
        {
          "data": {
            "text/plain": [
              "<Figure size 1280x960 with 0 Axes>"
            ]
          },
          "metadata": {},
          "output_type": "display_data"
        },
        {
          "data": {
            "text/plain": [
              "<Figure size 1280x960 with 0 Axes>"
            ]
          },
          "metadata": {},
          "output_type": "display_data"
        },
        {
          "data": {
            "text/plain": [
              "<Figure size 1280x960 with 0 Axes>"
            ]
          },
          "metadata": {},
          "output_type": "display_data"
        },
        {
          "data": {
            "text/plain": [
              "<Figure size 1280x960 with 0 Axes>"
            ]
          },
          "metadata": {},
          "output_type": "display_data"
        },
        {
          "data": {
            "text/plain": [
              "<Figure size 1280x960 with 0 Axes>"
            ]
          },
          "metadata": {},
          "output_type": "display_data"
        },
        {
          "data": {
            "text/plain": [
              "<Figure size 1280x960 with 0 Axes>"
            ]
          },
          "metadata": {},
          "output_type": "display_data"
        },
        {
          "data": {
            "text/plain": [
              "<Figure size 1280x960 with 0 Axes>"
            ]
          },
          "metadata": {},
          "output_type": "display_data"
        },
        {
          "data": {
            "text/plain": [
              "<Figure size 1280x960 with 0 Axes>"
            ]
          },
          "metadata": {},
          "output_type": "display_data"
        },
        {
          "data": {
            "text/plain": [
              "<Figure size 1280x960 with 0 Axes>"
            ]
          },
          "metadata": {},
          "output_type": "display_data"
        },
        {
          "data": {
            "text/plain": [
              "<Figure size 1280x960 with 0 Axes>"
            ]
          },
          "metadata": {},
          "output_type": "display_data"
        },
        {
          "data": {
            "text/plain": [
              "<Figure size 1280x960 with 0 Axes>"
            ]
          },
          "metadata": {},
          "output_type": "display_data"
        },
        {
          "data": {
            "text/plain": [
              "<Figure size 1280x960 with 0 Axes>"
            ]
          },
          "metadata": {},
          "output_type": "display_data"
        },
        {
          "data": {
            "text/plain": [
              "<Figure size 1280x960 with 0 Axes>"
            ]
          },
          "metadata": {},
          "output_type": "display_data"
        },
        {
          "data": {
            "text/plain": [
              "<Figure size 1280x960 with 0 Axes>"
            ]
          },
          "metadata": {},
          "output_type": "display_data"
        },
        {
          "data": {
            "text/plain": [
              "<Figure size 1280x960 with 0 Axes>"
            ]
          },
          "metadata": {},
          "output_type": "display_data"
        },
        {
          "data": {
            "text/plain": [
              "<Figure size 1280x960 with 0 Axes>"
            ]
          },
          "metadata": {},
          "output_type": "display_data"
        },
        {
          "data": {
            "text/plain": [
              "<Figure size 1280x960 with 0 Axes>"
            ]
          },
          "metadata": {},
          "output_type": "display_data"
        },
        {
          "data": {
            "text/plain": [
              "<Figure size 1280x960 with 0 Axes>"
            ]
          },
          "metadata": {},
          "output_type": "display_data"
        },
        {
          "data": {
            "text/plain": [
              "<Figure size 1280x960 with 0 Axes>"
            ]
          },
          "metadata": {},
          "output_type": "display_data"
        },
        {
          "data": {
            "text/plain": [
              "<Figure size 1280x960 with 0 Axes>"
            ]
          },
          "metadata": {},
          "output_type": "display_data"
        },
        {
          "data": {
            "text/plain": [
              "<Figure size 1280x960 with 0 Axes>"
            ]
          },
          "metadata": {},
          "output_type": "display_data"
        },
        {
          "data": {
            "text/plain": [
              "<Figure size 1280x960 with 0 Axes>"
            ]
          },
          "metadata": {},
          "output_type": "display_data"
        },
        {
          "data": {
            "text/plain": [
              "<Figure size 1280x960 with 0 Axes>"
            ]
          },
          "metadata": {},
          "output_type": "display_data"
        },
        {
          "data": {
            "text/plain": [
              "<Figure size 1280x960 with 0 Axes>"
            ]
          },
          "metadata": {},
          "output_type": "display_data"
        },
        {
          "data": {
            "text/plain": [
              "<Figure size 1280x960 with 0 Axes>"
            ]
          },
          "metadata": {},
          "output_type": "display_data"
        },
        {
          "data": {
            "text/plain": [
              "<Figure size 1280x960 with 0 Axes>"
            ]
          },
          "metadata": {},
          "output_type": "display_data"
        },
        {
          "data": {
            "text/plain": [
              "<Figure size 1280x960 with 0 Axes>"
            ]
          },
          "metadata": {},
          "output_type": "display_data"
        },
        {
          "data": {
            "text/plain": [
              "<Figure size 1280x960 with 0 Axes>"
            ]
          },
          "metadata": {},
          "output_type": "display_data"
        },
        {
          "data": {
            "text/plain": [
              "<Figure size 1280x960 with 0 Axes>"
            ]
          },
          "metadata": {},
          "output_type": "display_data"
        },
        {
          "data": {
            "text/plain": [
              "<Figure size 1280x960 with 0 Axes>"
            ]
          },
          "metadata": {},
          "output_type": "display_data"
        },
        {
          "data": {
            "text/plain": [
              "<Figure size 1280x960 with 0 Axes>"
            ]
          },
          "metadata": {},
          "output_type": "display_data"
        },
        {
          "data": {
            "text/plain": [
              "<Figure size 1280x960 with 0 Axes>"
            ]
          },
          "metadata": {},
          "output_type": "display_data"
        },
        {
          "data": {
            "text/plain": [
              "<Figure size 1280x960 with 0 Axes>"
            ]
          },
          "metadata": {},
          "output_type": "display_data"
        },
        {
          "data": {
            "text/plain": [
              "<Figure size 1280x960 with 0 Axes>"
            ]
          },
          "metadata": {},
          "output_type": "display_data"
        },
        {
          "data": {
            "text/plain": [
              "<Figure size 1280x960 with 0 Axes>"
            ]
          },
          "metadata": {},
          "output_type": "display_data"
        },
        {
          "data": {
            "text/plain": [
              "<Figure size 1280x960 with 0 Axes>"
            ]
          },
          "metadata": {},
          "output_type": "display_data"
        },
        {
          "data": {
            "text/plain": [
              "<Figure size 1280x960 with 0 Axes>"
            ]
          },
          "metadata": {},
          "output_type": "display_data"
        },
        {
          "data": {
            "text/plain": [
              "<Figure size 1280x960 with 0 Axes>"
            ]
          },
          "metadata": {},
          "output_type": "display_data"
        },
        {
          "data": {
            "text/plain": [
              "<Figure size 1280x960 with 0 Axes>"
            ]
          },
          "metadata": {},
          "output_type": "display_data"
        },
        {
          "data": {
            "text/plain": [
              "<Figure size 1280x960 with 0 Axes>"
            ]
          },
          "metadata": {},
          "output_type": "display_data"
        },
        {
          "data": {
            "text/plain": [
              "<Figure size 1280x960 with 0 Axes>"
            ]
          },
          "metadata": {},
          "output_type": "display_data"
        },
        {
          "data": {
            "text/plain": [
              "<Figure size 1280x960 with 0 Axes>"
            ]
          },
          "metadata": {},
          "output_type": "display_data"
        },
        {
          "data": {
            "text/plain": [
              "<Figure size 1280x960 with 0 Axes>"
            ]
          },
          "metadata": {},
          "output_type": "display_data"
        },
        {
          "data": {
            "text/plain": [
              "<Figure size 1280x960 with 0 Axes>"
            ]
          },
          "metadata": {},
          "output_type": "display_data"
        },
        {
          "data": {
            "text/plain": [
              "<Figure size 1280x960 with 0 Axes>"
            ]
          },
          "metadata": {},
          "output_type": "display_data"
        },
        {
          "data": {
            "text/plain": [
              "<Figure size 1280x960 with 0 Axes>"
            ]
          },
          "metadata": {},
          "output_type": "display_data"
        },
        {
          "data": {
            "text/plain": [
              "<Figure size 1280x960 with 0 Axes>"
            ]
          },
          "metadata": {},
          "output_type": "display_data"
        },
        {
          "data": {
            "text/plain": [
              "<Figure size 1280x960 with 0 Axes>"
            ]
          },
          "metadata": {},
          "output_type": "display_data"
        },
        {
          "data": {
            "text/plain": [
              "<Figure size 1280x960 with 0 Axes>"
            ]
          },
          "metadata": {},
          "output_type": "display_data"
        },
        {
          "data": {
            "text/plain": [
              "<Figure size 1280x960 with 0 Axes>"
            ]
          },
          "metadata": {},
          "output_type": "display_data"
        },
        {
          "data": {
            "text/plain": [
              "<Figure size 1280x960 with 0 Axes>"
            ]
          },
          "metadata": {},
          "output_type": "display_data"
        },
        {
          "data": {
            "text/plain": [
              "<Figure size 1280x960 with 0 Axes>"
            ]
          },
          "metadata": {},
          "output_type": "display_data"
        },
        {
          "data": {
            "text/plain": [
              "<Figure size 1280x960 with 0 Axes>"
            ]
          },
          "metadata": {},
          "output_type": "display_data"
        },
        {
          "data": {
            "text/plain": [
              "<Figure size 1280x960 with 0 Axes>"
            ]
          },
          "metadata": {},
          "output_type": "display_data"
        },
        {
          "data": {
            "text/plain": [
              "<Figure size 1280x960 with 0 Axes>"
            ]
          },
          "metadata": {},
          "output_type": "display_data"
        },
        {
          "data": {
            "text/plain": [
              "<Figure size 1280x960 with 0 Axes>"
            ]
          },
          "metadata": {},
          "output_type": "display_data"
        },
        {
          "data": {
            "text/plain": [
              "<Figure size 1280x960 with 0 Axes>"
            ]
          },
          "metadata": {},
          "output_type": "display_data"
        },
        {
          "data": {
            "text/plain": [
              "<Figure size 1280x960 with 0 Axes>"
            ]
          },
          "metadata": {},
          "output_type": "display_data"
        },
        {
          "data": {
            "text/plain": [
              "<Figure size 1280x960 with 0 Axes>"
            ]
          },
          "metadata": {},
          "output_type": "display_data"
        },
        {
          "data": {
            "text/plain": [
              "<Figure size 1280x960 with 0 Axes>"
            ]
          },
          "metadata": {},
          "output_type": "display_data"
        },
        {
          "data": {
            "text/plain": [
              "<Figure size 1280x960 with 0 Axes>"
            ]
          },
          "metadata": {},
          "output_type": "display_data"
        },
        {
          "data": {
            "text/plain": [
              "<Figure size 1280x960 with 0 Axes>"
            ]
          },
          "metadata": {},
          "output_type": "display_data"
        },
        {
          "data": {
            "text/plain": [
              "<Figure size 1280x960 with 0 Axes>"
            ]
          },
          "metadata": {},
          "output_type": "display_data"
        },
        {
          "data": {
            "text/plain": [
              "<Figure size 1280x960 with 0 Axes>"
            ]
          },
          "metadata": {},
          "output_type": "display_data"
        },
        {
          "data": {
            "text/plain": [
              "<Figure size 1280x960 with 0 Axes>"
            ]
          },
          "metadata": {},
          "output_type": "display_data"
        },
        {
          "data": {
            "text/plain": [
              "<Figure size 1280x960 with 0 Axes>"
            ]
          },
          "metadata": {},
          "output_type": "display_data"
        },
        {
          "data": {
            "text/plain": [
              "<Figure size 1280x960 with 0 Axes>"
            ]
          },
          "metadata": {},
          "output_type": "display_data"
        },
        {
          "data": {
            "text/plain": [
              "<Figure size 1280x960 with 0 Axes>"
            ]
          },
          "metadata": {},
          "output_type": "display_data"
        },
        {
          "data": {
            "text/plain": [
              "<Figure size 1280x960 with 0 Axes>"
            ]
          },
          "metadata": {},
          "output_type": "display_data"
        },
        {
          "data": {
            "text/plain": [
              "<Figure size 1280x960 with 0 Axes>"
            ]
          },
          "metadata": {},
          "output_type": "display_data"
        },
        {
          "data": {
            "image/png": "[encoded data removed]",
            "text/plain": [
              "<Figure size 1000x500 with 1 Axes>"
            ]
          },
          "metadata": {},
          "output_type": "display_data"
        },
        {
          "data": {
            "image/png": "[encoded data removed]",
            "text/plain": [
              "<Figure size 1000x500 with 1 Axes>"
            ]
          },
          "metadata": {},
          "output_type": "display_data"
        },
        {
          "data": {
            "image/png": "[encoded data removed]",
            "text/plain": [
              "<Figure size 1000x500 with 1 Axes>"
            ]
          },
          "metadata": {},
          "output_type": "display_data"
        },
        {
          "data": {
            "image/png": "[encoded data removed]",
            "text/plain": [
              "<Figure size 1000x500 with 1 Axes>"
            ]
          },
          "metadata": {},
          "output_type": "display_data"
        },
        {
          "data": {
            "image/png": "[encoded data removed]",
            "text/plain": [
              "<Figure size 1000x500 with 1 Axes>"
            ]
          },
          "metadata": {},
          "output_type": "display_data"
        },
        {
          "data": {
            "image/png": "[encoded data removed]",
            "text/plain": [
              "<Figure size 1000x500 with 1 Axes>"
            ]
          },
          "metadata": {},
          "output_type": "display_data"
        }
      ],
      "source": [
        "data_loader=dataloader(20)\n",
        "gen=VAE_GAN().to(device)\n",
        "discrim=Discriminator().to(device)\n",
        "real_batch = next(iter(data_loader))\n",
        "show_and_save(\"training\" ,make_grid((real_batch[0]*0.5+0.5).cpu(),8))\n",
        "\n",
        "epochs=100\n",
        "lr=3e-4\n",
        "alpha=0.1\n",
        "gamma=15\n",
        "\n",
        "criterion=nn.BCELoss().to(device)\n",
        "optim_E=torch.optim.RMSprop(gen.encoder.parameters(), lr=lr)\n",
        "optim_D=torch.optim.RMSprop(gen.decoder.parameters(), lr=lr)\n",
        "optim_Dis=torch.optim.RMSprop(discrim.parameters(), lr=lr*alpha)\n",
        "z_fixed=Variable(torch.randn((64,128))).to(device)\n",
        "x_fixed=Variable(real_batch[0]).to(device)\n",
        "\n",
        "for epoch in range(epochs):\n",
        "  prior_loss_list,gan_loss_list,recon_loss_list=[],[],[]\n",
        "  dis_real_list,dis_fake_list,dis_prior_list=[],[],[]\n",
        "  for i, (data,_) in enumerate(data_loader, 0):\n",
        "    bs=data.size()[0]\n",
        "    \n",
        "    ones_label=Variable(torch.ones(bs,1)).to(device)\n",
        "    zeros_label=Variable(torch.zeros(bs,1)).to(device)\n",
        "    zeros_label1=Variable(torch.zeros(10,1)).to(device)\n",
        "    datav = Variable(data).to(device)\n",
        "    mean, logvar, rec_enc = gen(datav)\n",
        "    z_p = Variable(torch.randn(10,128)).to(device)\n",
        "    x_p_tilda = gen.decoder(z_p)\n",
        " \n",
        "    output = discrim(datav)[0]\n",
        "    errD_real = criterion(output, ones_label)\n",
        "    dis_real_list.append(errD_real.item())\n",
        "    output = discrim(rec_enc)[0]\n",
        "    errD_rec_enc = criterion(output, zeros_label)\n",
        "    dis_fake_list.append(errD_rec_enc.item())\n",
        "    output = discrim(x_p_tilda)[0]\n",
        "    errD_rec_noise = criterion(output, zeros_label1)\n",
        "    dis_prior_list.append(errD_rec_noise.item())\n",
        "    gan_loss = errD_real + errD_rec_enc + errD_rec_noise\n",
        "    gan_loss_list.append(gan_loss.item())\n",
        "    optim_Dis.zero_grad()\n",
        "    gan_loss.backward(retain_graph=True)\n",
        "    optim_Dis.step()\n",
        "\n",
        "\n",
        "    output = discrim(datav)[0]\n",
        "    errD_real = criterion(output, ones_label)\n",
        "    output = discrim(rec_enc)[0]\n",
        "    errD_rec_enc = criterion(output, zeros_label)\n",
        "    output = discrim(x_p_tilda)[0]\n",
        "    errD_rec_noise = criterion(output, zeros_label1)\n",
        "    gan_loss = errD_real + errD_rec_enc + errD_rec_noise\n",
        "    \n",
        "\n",
        "    x_l_tilda = discrim(rec_enc)[1]\n",
        "    x_l = discrim(datav)[1]\n",
        "    rec_loss = ((x_l_tilda - x_l) ** 2).mean()\n",
        "    err_dec = gamma * rec_loss - gan_loss \n",
        "    recon_loss_list.append(rec_loss.item())\n",
        "    optim_D.zero_grad()\n",
        "    err_dec.backward(retain_graph=True)\n",
        "    optim_D.step()\n",
        "    \n",
        "    mean, logvar, rec_enc = gen(datav)\n",
        "    x_l_tilda = discrim(rec_enc)[1]\n",
        "    x_l = discrim(datav)[1]\n",
        "    rec_loss = ((x_l_tilda - x_l) ** 2).mean()\n",
        "    prior_loss = 1 + logvar - mean.pow(2) - logvar.exp()\n",
        "    prior_loss = (-0.5 * torch.sum(prior_loss))/torch.numel(mean.data)\n",
        "    prior_loss_list.append(prior_loss.item())\n",
        "    err_enc = prior_loss + 5*rec_loss\n",
        "\n",
        "    optim_E.zero_grad()\n",
        "    err_enc.backward(retain_graph=True)\n",
        "    optim_E.step()\n",
        "    \n",
        "    if i % 50 == 0:\n",
        "            print('[%d/%d][%d/%d]\\tLoss_gan: %.4f\\tLoss_prior: %.4f\\tRec_loss: %.4f\\tdis_real_loss: %0.4f\\tdis_fake_loss: %.4f\\tdis_prior_loss: %.4f'\n",
        "                  % (epoch,epochs, i, len(data_loader),\n",
        "                     gan_loss.item(), prior_loss.item(),rec_loss.item(),errD_real.item(),errD_rec_enc.item(),errD_rec_noise.item()))\n",
        "\n",
        "  b=gen(x_fixed)[2]\n",
        "  b=b.detach()\n",
        "  c=gen.decoder(z_fixed)\n",
        "  c=c.detach()\n",
        "  show_and_save('noise_epoch_%d.png' % epoch ,make_grid((c*0.5+0.5).cpu(),8))\n",
        "  show_and_save('epoch_%d.png' % epoch ,make_grid((b*0.5+0.5).cpu(),8))\n",
        "  \n",
        "plot_loss(prior_loss_list)\n",
        "plot_loss(recon_loss_list)\n",
        "plot_loss(gan_loss_list)\n",
        "plot_loss(prior_loss_list)\n",
        "plot_loss(recon_loss_list)\n",
        "plot_loss(gan_loss_list)"
      ]
    },
    {
      "attachments": {},
      "cell_type": "markdown",
      "metadata": {},
      "source": [
        "## WITH FID"
      ]
    },
    {
      "attachments": {},
      "cell_type": "markdown",
      "metadata": {},
      "source": [
        "Turns out testing with FID in this case is irrelevant because the model only genrates 20 images while the dataset is around 140 images"
      ]
    },
    {
      "cell_type": "code",
      "execution_count": 13,
      "metadata": {
        "colab": {
          "base_uri": "https://localhost:8080/",
          "height": 1000
        },
        "id": "r2hozXPM16EL",
        "outputId": "7237d809-467d-4b50-f04e-42c071121cbe"
      },
      "outputs": [
        {
          "name": "stderr",
          "output_type": "stream",
          "text": [
            "/usr/local/lib/python3.9/dist-packages/torchvision/transforms/functional.py:1603: UserWarning: The default value of the antialias parameter of all the resizing transforms (Resize(), RandomResizedCrop(), etc.) will change from None to True in v0.17, in order to be consistent across the PIL and Tensor backends. To suppress this warning, directly pass antialias=True (recommended, future default), antialias=None (current default, which means False for Tensors and True for PIL), or antialias=False (only works on Tensors - PIL will still use antialiasing). This also applies if you are using the inference transforms from the models weights: update the call to weights.transforms(antialias=True).\n",
            "  warnings.warn(\n"
          ]
        },
        {
          "name": "stdout",
          "output_type": "stream",
          "text": [
            "1/1 [==============================] - 2s 2s/step\n",
            "1/1 [==============================] - 0s 34ms/step\n",
            "[0/100][0/8]\tLoss_gan: 3.6347\tLoss_prior: 0.1393\tRec_loss: 0.6321\tdis_real_loss: 1.4314\tdis_fake_loss: 1.1254\tdis_prior_loss: 1.0780\tFID: 3436.0511\n",
            "1/1 [==============================] - 0s 34ms/step\n",
            "1/1 [==============================] - 0s 31ms/step\n",
            "1/1 [==============================] - 0s 34ms/step\n",
            "1/1 [==============================] - 0s 36ms/step\n",
            "1/1 [==============================] - 0s 31ms/step\n",
            "1/1 [==============================] - 0s 32ms/step\n",
            "1/1 [==============================] - 0s 33ms/step\n",
            "1/1 [==============================] - 0s 33ms/step\n",
            "1/1 [==============================] - 0s 31ms/step\n",
            "1/1 [==============================] - 0s 35ms/step\n",
            "1/1 [==============================] - 0s 32ms/step\n",
            "1/1 [==============================] - 0s 30ms/step\n",
            "1/1 [==============================] - 0s 424ms/step\n",
            "1/1 [==============================] - 0s 31ms/step\n",
            "1/1 [==============================] - 0s 32ms/step\n",
            "1/1 [==============================] - 0s 29ms/step\n",
            "[1/100][0/8]\tLoss_gan: 2.0063\tLoss_prior: 0.5504\tRec_loss: 0.2737\tdis_real_loss: 0.6849\tdis_fake_loss: 0.6639\tdis_prior_loss: 0.6574\tFID: 3028.0654\n",
            "1/1 [==============================] - 0s 36ms/step\n",
            "1/1 [==============================] - 0s 32ms/step\n",
            "1/1 [==============================] - 0s 33ms/step\n",
            "1/1 [==============================] - 0s 34ms/step\n",
            "1/1 [==============================] - 0s 32ms/step\n",
            "1/1 [==============================] - 0s 31ms/step\n",
            "1/1 [==============================] - 0s 29ms/step\n",
            "1/1 [==============================] - 0s 32ms/step\n",
            "1/1 [==============================] - 0s 29ms/step\n",
            "1/1 [==============================] - 0s 30ms/step\n",
            "1/1 [==============================] - 0s 29ms/step\n",
            "1/1 [==============================] - 0s 30ms/step\n",
            "1/1 [==============================] - 0s 30ms/step\n",
            "1/1 [==============================] - 0s 32ms/step\n",
            "1/1 [==============================] - 0s 31ms/step\n",
            "1/1 [==============================] - 0s 34ms/step\n",
            "[2/100][0/8]\tLoss_gan: 1.9948\tLoss_prior: 0.3423\tRec_loss: 0.2110\tdis_real_loss: 0.7295\tdis_fake_loss: 0.6291\tdis_prior_loss: 0.6362\tFID: 3019.4693\n",
            "1/1 [==============================] - 0s 32ms/step\n",
            "1/1 [==============================] - 0s 28ms/step\n",
            "1/1 [==============================] - 0s 31ms/step\n",
            "1/1 [==============================] - 0s 28ms/step\n",
            "1/1 [==============================] - 0s 33ms/step\n",
            "1/1 [==============================] - 0s 36ms/step\n",
            "1/1 [==============================] - 0s 31ms/step\n",
            "1/1 [==============================] - 0s 31ms/step\n",
            "1/1 [==============================] - 0s 32ms/step\n",
            "1/1 [==============================] - 0s 34ms/step\n",
            "1/1 [==============================] - 0s 35ms/step\n",
            "1/1 [==============================] - 0s 34ms/step\n",
            "1/1 [==============================] - 0s 33ms/step\n",
            "1/1 [==============================] - 0s 30ms/step\n",
            "1/1 [==============================] - 0s 31ms/step\n",
            "1/1 [==============================] - 0s 31ms/step\n",
            "[3/100][0/8]\tLoss_gan: 1.9569\tLoss_prior: 0.1900\tRec_loss: 0.1864\tdis_real_loss: 0.7368\tdis_fake_loss: 0.6118\tdis_prior_loss: 0.6083\tFID: 2942.8041\n",
            "1/1 [==============================] - 0s 30ms/step\n",
            "1/1 [==============================] - 0s 31ms/step\n",
            "1/1 [==============================] - 0s 32ms/step\n",
            "1/1 [==============================] - 0s 29ms/step\n",
            "1/1 [==============================] - 0s 31ms/step\n",
            "1/1 [==============================] - 0s 30ms/step\n",
            "1/1 [==============================] - 0s 31ms/step\n",
            "1/1 [==============================] - 0s 31ms/step\n",
            "1/1 [==============================] - 0s 30ms/step\n",
            "1/1 [==============================] - 0s 31ms/step\n",
            "1/1 [==============================] - 0s 32ms/step\n",
            "1/1 [==============================] - 0s 34ms/step\n",
            "1/1 [==============================] - 0s 34ms/step\n",
            "1/1 [==============================] - 0s 33ms/step\n",
            "1/1 [==============================] - 0s 29ms/step\n",
            "1/1 [==============================] - 0s 28ms/step\n",
            "[4/100][0/8]\tLoss_gan: 1.9134\tLoss_prior: 0.1604\tRec_loss: 0.2009\tdis_real_loss: 0.7528\tdis_fake_loss: 0.5797\tdis_prior_loss: 0.5808\tFID: 2774.0827\n",
            "1/1 [==============================] - 0s 35ms/step\n",
            "1/1 [==============================] - 0s 33ms/step\n",
            "1/1 [==============================] - 0s 31ms/step\n",
            "1/1 [==============================] - 0s 32ms/step\n",
            "1/1 [==============================] - 0s 34ms/step\n",
            "1/1 [==============================] - 0s 30ms/step\n",
            "1/1 [==============================] - 0s 30ms/step\n",
            "1/1 [==============================] - 0s 32ms/step\n",
            "1/1 [==============================] - 0s 33ms/step\n",
            "1/1 [==============================] - 0s 33ms/step\n",
            "1/1 [==============================] - 0s 30ms/step\n",
            "1/1 [==============================] - 0s 29ms/step\n",
            "1/1 [==============================] - 0s 30ms/step\n",
            "1/1 [==============================] - 0s 30ms/step\n",
            "1/1 [==============================] - 0s 29ms/step\n",
            "1/1 [==============================] - 0s 33ms/step\n",
            "[5/100][0/8]\tLoss_gan: 1.8637\tLoss_prior: 0.3250\tRec_loss: 0.1993\tdis_real_loss: 0.7828\tdis_fake_loss: 0.5563\tdis_prior_loss: 0.5246\tFID: 2590.0703\n",
            "1/1 [==============================] - 0s 29ms/step\n",
            "1/1 [==============================] - 0s 29ms/step\n",
            "1/1 [==============================] - 0s 33ms/step\n",
            "1/1 [==============================] - 0s 29ms/step\n",
            "1/1 [==============================] - 0s 30ms/step\n",
            "1/1 [==============================] - 0s 28ms/step\n",
            "1/1 [==============================] - 0s 30ms/step\n",
            "1/1 [==============================] - 0s 32ms/step\n",
            "1/1 [==============================] - 0s 30ms/step\n",
            "1/1 [==============================] - 0s 29ms/step\n",
            "1/1 [==============================] - 0s 34ms/step\n",
            "1/1 [==============================] - 0s 34ms/step\n",
            "1/1 [==============================] - 0s 30ms/step\n",
            "1/1 [==============================] - 0s 30ms/step\n",
            "1/1 [==============================] - 0s 30ms/step\n",
            "1/1 [==============================] - 0s 33ms/step\n",
            "[6/100][0/8]\tLoss_gan: 1.8844\tLoss_prior: 0.1774\tRec_loss: 0.1761\tdis_real_loss: 0.7932\tdis_fake_loss: 0.5545\tdis_prior_loss: 0.5367\tFID: 3005.0315\n",
            "1/1 [==============================] - 0s 33ms/step\n",
            "1/1 [==============================] - 0s 37ms/step\n",
            "1/1 [==============================] - 0s 37ms/step\n",
            "1/1 [==============================] - 0s 34ms/step\n",
            "1/1 [==============================] - 0s 34ms/step\n",
            "1/1 [==============================] - 0s 30ms/step\n",
            "1/1 [==============================] - 0s 31ms/step\n",
            "1/1 [==============================] - 0s 30ms/step\n"
          ]
        },
        {
          "ename": "KeyboardInterrupt",
          "evalue": "ignored",
          "output_type": "error",
          "traceback": [
            "\u001b[0;31m---------------------------------------------------------------------------\u001b[0m",
            "\u001b[0;31mKeyboardInterrupt\u001b[0m                         Traceback (most recent call last)",
            "\u001b[0;32m<ipython-input-13-eaa5741c1254>\u001b[0m in \u001b[0;36m<cell line: 14>\u001b[0;34m()\u001b[0m\n\u001b[1;32m     16\u001b[0m   \u001b[0mdis_real_list\u001b[0m\u001b[0;34m,\u001b[0m\u001b[0mdis_fake_list\u001b[0m\u001b[0;34m,\u001b[0m\u001b[0mdis_prior_list\u001b[0m\u001b[0;34m=\u001b[0m\u001b[0;34m[\u001b[0m\u001b[0;34m]\u001b[0m\u001b[0;34m,\u001b[0m\u001b[0;34m[\u001b[0m\u001b[0;34m]\u001b[0m\u001b[0;34m,\u001b[0m\u001b[0;34m[\u001b[0m\u001b[0;34m]\u001b[0m\u001b[0;34m\u001b[0m\u001b[0;34m\u001b[0m\u001b[0m\n\u001b[1;32m     17\u001b[0m   \u001b[0mfid_scores\u001b[0m\u001b[0;34m=\u001b[0m\u001b[0;34m[\u001b[0m\u001b[0;34m]\u001b[0m\u001b[0;34m\u001b[0m\u001b[0;34m\u001b[0m\u001b[0m\n\u001b[0;32m---> 18\u001b[0;31m   \u001b[0;32mfor\u001b[0m \u001b[0mi\u001b[0m\u001b[0;34m,\u001b[0m \u001b[0;34m(\u001b[0m\u001b[0mdata\u001b[0m\u001b[0;34m,\u001b[0m\u001b[0m_\u001b[0m\u001b[0;34m)\u001b[0m \u001b[0;32min\u001b[0m \u001b[0menumerate\u001b[0m\u001b[0;34m(\u001b[0m\u001b[0mdata_loader\u001b[0m\u001b[0;34m,\u001b[0m \u001b[0;36m0\u001b[0m\u001b[0;34m)\u001b[0m\u001b[0;34m:\u001b[0m\u001b[0;34m\u001b[0m\u001b[0;34m\u001b[0m\u001b[0m\n\u001b[0m\u001b[1;32m     19\u001b[0m     \u001b[0mbs\u001b[0m\u001b[0;34m=\u001b[0m\u001b[0mdata\u001b[0m\u001b[0;34m.\u001b[0m\u001b[0msize\u001b[0m\u001b[0;34m(\u001b[0m\u001b[0;34m)\u001b[0m\u001b[0;34m[\u001b[0m\u001b[0;36m0\u001b[0m\u001b[0;34m]\u001b[0m\u001b[0;34m\u001b[0m\u001b[0;34m\u001b[0m\u001b[0m\n\u001b[1;32m     20\u001b[0m \u001b[0;34m\u001b[0m\u001b[0m\n",
            "\u001b[0;32m/usr/local/lib/python3.9/dist-packages/torch/utils/data/dataloader.py\u001b[0m in \u001b[0;36m__next__\u001b[0;34m(self)\u001b[0m\n\u001b[1;32m    632\u001b[0m                 \u001b[0;31m# TODO(https://github.com/pytorch/pytorch/issues/76750)\u001b[0m\u001b[0;34m\u001b[0m\u001b[0;34m\u001b[0m\u001b[0m\n\u001b[1;32m    633\u001b[0m                 \u001b[0mself\u001b[0m\u001b[0;34m.\u001b[0m\u001b[0m_reset\u001b[0m\u001b[0;34m(\u001b[0m\u001b[0;34m)\u001b[0m  \u001b[0;31m# type: ignore[call-arg]\u001b[0m\u001b[0;34m\u001b[0m\u001b[0;34m\u001b[0m\u001b[0m\n\u001b[0;32m--> 634\u001b[0;31m             \u001b[0mdata\u001b[0m \u001b[0;34m=\u001b[0m \u001b[0mself\u001b[0m\u001b[0;34m.\u001b[0m\u001b[0m_next_data\u001b[0m\u001b[0;34m(\u001b[0m\u001b[0;34m)\u001b[0m\u001b[0;34m\u001b[0m\u001b[0;34m\u001b[0m\u001b[0m\n\u001b[0m\u001b[1;32m    635\u001b[0m             \u001b[0mself\u001b[0m\u001b[0;34m.\u001b[0m\u001b[0m_num_yielded\u001b[0m \u001b[0;34m+=\u001b[0m \u001b[0;36m1\u001b[0m\u001b[0;34m\u001b[0m\u001b[0;34m\u001b[0m\u001b[0m\n\u001b[1;32m    636\u001b[0m             \u001b[0;32mif\u001b[0m \u001b[0mself\u001b[0m\u001b[0;34m.\u001b[0m\u001b[0m_dataset_kind\u001b[0m \u001b[0;34m==\u001b[0m \u001b[0m_DatasetKind\u001b[0m\u001b[0;34m.\u001b[0m\u001b[0mIterable\u001b[0m \u001b[0;32mand\u001b[0m\u001b[0;31m \u001b[0m\u001b[0;31m\\\u001b[0m\u001b[0;34m\u001b[0m\u001b[0;34m\u001b[0m\u001b[0m\n",
            "\u001b[0;32m/usr/local/lib/python3.9/dist-packages/torch/utils/data/dataloader.py\u001b[0m in \u001b[0;36m_next_data\u001b[0;34m(self)\u001b[0m\n\u001b[1;32m    676\u001b[0m     \u001b[0;32mdef\u001b[0m \u001b[0m_next_data\u001b[0m\u001b[0;34m(\u001b[0m\u001b[0mself\u001b[0m\u001b[0;34m)\u001b[0m\u001b[0;34m:\u001b[0m\u001b[0;34m\u001b[0m\u001b[0;34m\u001b[0m\u001b[0m\n\u001b[1;32m    677\u001b[0m         \u001b[0mindex\u001b[0m \u001b[0;34m=\u001b[0m \u001b[0mself\u001b[0m\u001b[0;34m.\u001b[0m\u001b[0m_next_index\u001b[0m\u001b[0;34m(\u001b[0m\u001b[0;34m)\u001b[0m  \u001b[0;31m# may raise StopIteration\u001b[0m\u001b[0;34m\u001b[0m\u001b[0;34m\u001b[0m\u001b[0m\n\u001b[0;32m--> 678\u001b[0;31m         \u001b[0mdata\u001b[0m \u001b[0;34m=\u001b[0m \u001b[0mself\u001b[0m\u001b[0;34m.\u001b[0m\u001b[0m_dataset_fetcher\u001b[0m\u001b[0;34m.\u001b[0m\u001b[0mfetch\u001b[0m\u001b[0;34m(\u001b[0m\u001b[0mindex\u001b[0m\u001b[0;34m)\u001b[0m  \u001b[0;31m# may raise StopIteration\u001b[0m\u001b[0;34m\u001b[0m\u001b[0;34m\u001b[0m\u001b[0m\n\u001b[0m\u001b[1;32m    679\u001b[0m         \u001b[0;32mif\u001b[0m \u001b[0mself\u001b[0m\u001b[0;34m.\u001b[0m\u001b[0m_pin_memory\u001b[0m\u001b[0;34m:\u001b[0m\u001b[0;34m\u001b[0m\u001b[0;34m\u001b[0m\u001b[0m\n\u001b[1;32m    680\u001b[0m             \u001b[0mdata\u001b[0m \u001b[0;34m=\u001b[0m \u001b[0m_utils\u001b[0m\u001b[0;34m.\u001b[0m\u001b[0mpin_memory\u001b[0m\u001b[0;34m.\u001b[0m\u001b[0mpin_memory\u001b[0m\u001b[0;34m(\u001b[0m\u001b[0mdata\u001b[0m\u001b[0;34m,\u001b[0m \u001b[0mself\u001b[0m\u001b[0;34m.\u001b[0m\u001b[0m_pin_memory_device\u001b[0m\u001b[0;34m)\u001b[0m\u001b[0;34m\u001b[0m\u001b[0;34m\u001b[0m\u001b[0m\n",
            "\u001b[0;32m/usr/local/lib/python3.9/dist-packages/torch/utils/data/_utils/fetch.py\u001b[0m in \u001b[0;36mfetch\u001b[0;34m(self, possibly_batched_index)\u001b[0m\n\u001b[1;32m     49\u001b[0m                 \u001b[0mdata\u001b[0m \u001b[0;34m=\u001b[0m \u001b[0mself\u001b[0m\u001b[0;34m.\u001b[0m\u001b[0mdataset\u001b[0m\u001b[0;34m.\u001b[0m\u001b[0m__getitems__\u001b[0m\u001b[0;34m(\u001b[0m\u001b[0mpossibly_batched_index\u001b[0m\u001b[0;34m)\u001b[0m\u001b[0;34m\u001b[0m\u001b[0;34m\u001b[0m\u001b[0m\n\u001b[1;32m     50\u001b[0m             \u001b[0;32melse\u001b[0m\u001b[0;34m:\u001b[0m\u001b[0;34m\u001b[0m\u001b[0;34m\u001b[0m\u001b[0m\n\u001b[0;32m---> 51\u001b[0;31m                 \u001b[0mdata\u001b[0m \u001b[0;34m=\u001b[0m \u001b[0;34m[\u001b[0m\u001b[0mself\u001b[0m\u001b[0;34m.\u001b[0m\u001b[0mdataset\u001b[0m\u001b[0;34m[\u001b[0m\u001b[0midx\u001b[0m\u001b[0;34m]\u001b[0m \u001b[0;32mfor\u001b[0m \u001b[0midx\u001b[0m \u001b[0;32min\u001b[0m \u001b[0mpossibly_batched_index\u001b[0m\u001b[0;34m]\u001b[0m\u001b[0;34m\u001b[0m\u001b[0;34m\u001b[0m\u001b[0m\n\u001b[0m\u001b[1;32m     52\u001b[0m         \u001b[0;32melse\u001b[0m\u001b[0;34m:\u001b[0m\u001b[0;34m\u001b[0m\u001b[0;34m\u001b[0m\u001b[0m\n\u001b[1;32m     53\u001b[0m             \u001b[0mdata\u001b[0m \u001b[0;34m=\u001b[0m \u001b[0mself\u001b[0m\u001b[0;34m.\u001b[0m\u001b[0mdataset\u001b[0m\u001b[0;34m[\u001b[0m\u001b[0mpossibly_batched_index\u001b[0m\u001b[0;34m]\u001b[0m\u001b[0;34m\u001b[0m\u001b[0;34m\u001b[0m\u001b[0m\n",
            "\u001b[0;32m/usr/local/lib/python3.9/dist-packages/torch/utils/data/_utils/fetch.py\u001b[0m in \u001b[0;36m<listcomp>\u001b[0;34m(.0)\u001b[0m\n\u001b[1;32m     49\u001b[0m                 \u001b[0mdata\u001b[0m \u001b[0;34m=\u001b[0m \u001b[0mself\u001b[0m\u001b[0;34m.\u001b[0m\u001b[0mdataset\u001b[0m\u001b[0;34m.\u001b[0m\u001b[0m__getitems__\u001b[0m\u001b[0;34m(\u001b[0m\u001b[0mpossibly_batched_index\u001b[0m\u001b[0;34m)\u001b[0m\u001b[0;34m\u001b[0m\u001b[0;34m\u001b[0m\u001b[0m\n\u001b[1;32m     50\u001b[0m             \u001b[0;32melse\u001b[0m\u001b[0;34m:\u001b[0m\u001b[0;34m\u001b[0m\u001b[0;34m\u001b[0m\u001b[0m\n\u001b[0;32m---> 51\u001b[0;31m                 \u001b[0mdata\u001b[0m \u001b[0;34m=\u001b[0m \u001b[0;34m[\u001b[0m\u001b[0mself\u001b[0m\u001b[0;34m.\u001b[0m\u001b[0mdataset\u001b[0m\u001b[0;34m[\u001b[0m\u001b[0midx\u001b[0m\u001b[0;34m]\u001b[0m \u001b[0;32mfor\u001b[0m \u001b[0midx\u001b[0m \u001b[0;32min\u001b[0m \u001b[0mpossibly_batched_index\u001b[0m\u001b[0;34m]\u001b[0m\u001b[0;34m\u001b[0m\u001b[0;34m\u001b[0m\u001b[0m\n\u001b[0m\u001b[1;32m     52\u001b[0m         \u001b[0;32melse\u001b[0m\u001b[0;34m:\u001b[0m\u001b[0;34m\u001b[0m\u001b[0;34m\u001b[0m\u001b[0m\n\u001b[1;32m     53\u001b[0m             \u001b[0mdata\u001b[0m \u001b[0;34m=\u001b[0m \u001b[0mself\u001b[0m\u001b[0;34m.\u001b[0m\u001b[0mdataset\u001b[0m\u001b[0;34m[\u001b[0m\u001b[0mpossibly_batched_index\u001b[0m\u001b[0;34m]\u001b[0m\u001b[0;34m\u001b[0m\u001b[0;34m\u001b[0m\u001b[0m\n",
            "\u001b[0;32m<ipython-input-4-e20c7d91c0b6>\u001b[0m in \u001b[0;36m__getitem__\u001b[0;34m(self, idx)\u001b[0m\n\u001b[1;32m      8\u001b[0m     \u001b[0;32mdef\u001b[0m \u001b[0m__getitem__\u001b[0m\u001b[0;34m(\u001b[0m\u001b[0mself\u001b[0m\u001b[0;34m,\u001b[0m \u001b[0midx\u001b[0m\u001b[0;34m)\u001b[0m\u001b[0;34m:\u001b[0m\u001b[0;34m\u001b[0m\u001b[0;34m\u001b[0m\u001b[0m\n\u001b[1;32m      9\u001b[0m         \u001b[0;32mfor\u001b[0m \u001b[0mi\u001b[0m\u001b[0;34m,\u001b[0m \u001b[0mimg\u001b[0m \u001b[0;32min\u001b[0m \u001b[0menumerate\u001b[0m\u001b[0;34m(\u001b[0m\u001b[0mos\u001b[0m\u001b[0;34m.\u001b[0m\u001b[0mlistdir\u001b[0m\u001b[0;34m(\u001b[0m\u001b[0mself\u001b[0m\u001b[0;34m.\u001b[0m\u001b[0mroot\u001b[0m\u001b[0;34m)\u001b[0m\u001b[0;34m)\u001b[0m\u001b[0;34m:\u001b[0m\u001b[0;34m\u001b[0m\u001b[0;34m\u001b[0m\u001b[0m\n\u001b[0;32m---> 10\u001b[0;31m             \u001b[0mimg\u001b[0m \u001b[0;34m=\u001b[0m \u001b[0mcv2\u001b[0m\u001b[0;34m.\u001b[0m\u001b[0mimread\u001b[0m\u001b[0;34m(\u001b[0m\u001b[0mos\u001b[0m\u001b[0;34m.\u001b[0m\u001b[0mpath\u001b[0m\u001b[0;34m.\u001b[0m\u001b[0mjoin\u001b[0m\u001b[0;34m(\u001b[0m\u001b[0;34mf'{self.root}/{img}'\u001b[0m\u001b[0;34m)\u001b[0m\u001b[0;34m)\u001b[0m\u001b[0;34m\u001b[0m\u001b[0;34m\u001b[0m\u001b[0m\n\u001b[0m\u001b[1;32m     11\u001b[0m             \u001b[0;32mif\u001b[0m \u001b[0mself\u001b[0m\u001b[0;34m.\u001b[0m\u001b[0mtransform\u001b[0m\u001b[0;34m:\u001b[0m\u001b[0;34m\u001b[0m\u001b[0;34m\u001b[0m\u001b[0m\n\u001b[1;32m     12\u001b[0m                 \u001b[0mimg\u001b[0m \u001b[0;34m=\u001b[0m \u001b[0mself\u001b[0m\u001b[0;34m.\u001b[0m\u001b[0mtransform\u001b[0m\u001b[0;34m(\u001b[0m\u001b[0mimg\u001b[0m\u001b[0;34m)\u001b[0m\u001b[0;34m\u001b[0m\u001b[0;34m\u001b[0m\u001b[0m\n",
            "\u001b[0;31mKeyboardInterrupt\u001b[0m: "
          ]
        },
        {
          "data": {
            "text/plain": [
              "<Figure size 1280x960 with 0 Axes>"
            ]
          },
          "metadata": {},
          "output_type": "display_data"
        },
        {
          "data": {
            "text/plain": [
              "<Figure size 1280x960 with 0 Axes>"
            ]
          },
          "metadata": {},
          "output_type": "display_data"
        },
        {
          "data": {
            "text/plain": [
              "<Figure size 1280x960 with 0 Axes>"
            ]
          },
          "metadata": {},
          "output_type": "display_data"
        },
        {
          "data": {
            "text/plain": [
              "<Figure size 1280x960 with 0 Axes>"
            ]
          },
          "metadata": {},
          "output_type": "display_data"
        },
        {
          "data": {
            "text/plain": [
              "<Figure size 1280x960 with 0 Axes>"
            ]
          },
          "metadata": {},
          "output_type": "display_data"
        },
        {
          "data": {
            "text/plain": [
              "<Figure size 1280x960 with 0 Axes>"
            ]
          },
          "metadata": {},
          "output_type": "display_data"
        },
        {
          "data": {
            "text/plain": [
              "<Figure size 1280x960 with 0 Axes>"
            ]
          },
          "metadata": {},
          "output_type": "display_data"
        },
        {
          "data": {
            "text/plain": [
              "<Figure size 1280x960 with 0 Axes>"
            ]
          },
          "metadata": {},
          "output_type": "display_data"
        },
        {
          "data": {
            "text/plain": [
              "<Figure size 1280x960 with 0 Axes>"
            ]
          },
          "metadata": {},
          "output_type": "display_data"
        },
        {
          "data": {
            "text/plain": [
              "<Figure size 1280x960 with 0 Axes>"
            ]
          },
          "metadata": {},
          "output_type": "display_data"
        },
        {
          "data": {
            "text/plain": [
              "<Figure size 1280x960 with 0 Axes>"
            ]
          },
          "metadata": {},
          "output_type": "display_data"
        },
        {
          "data": {
            "text/plain": [
              "<Figure size 1280x960 with 0 Axes>"
            ]
          },
          "metadata": {},
          "output_type": "display_data"
        },
        {
          "data": {
            "text/plain": [
              "<Figure size 1280x960 with 0 Axes>"
            ]
          },
          "metadata": {},
          "output_type": "display_data"
        }
      ],
      "source": [
        "data_loader=dataloader(20)\n",
        "gen=VAE_GAN().to(device)\n",
        "discrim=Discriminator().to(device)\n",
        "real_batch = next(iter(data_loader))\n",
        "show_and_save(\"training\" ,make_grid((real_batch[0]*0.5+0.5).cpu(),8))\n",
        "\n",
        "epochs=100\n",
        "lr=3e-4\n",
        "alpha=0.1\n",
        "gamma=15\n",
        "\n",
        "criterion=nn.BCELoss().to(device)\n",
        "optim_E=torch.optim.RMSprop(gen.encoder.parameters(), lr=lr)\n",
        "optim_D=torch.optim.RMSprop(gen.decoder.parameters(), lr=lr)\n",
        "optim_Dis=torch.optim.RMSprop(discrim.parameters(), lr=lr*alpha)\n",
        "z_fixed=Variable(torch.randn((64,128))).to(device)\n",
        "x_fixed=Variable(real_batch[0]).to(device)\n",
        "\n",
        "for epoch in range(epochs):\n",
        "  prior_loss_list,gan_loss_list,recon_loss_list=[],[],[]\n",
        "  dis_real_list,dis_fake_list,dis_prior_list=[],[],[]\n",
        "  fid_scores=[]\n",
        "  for i, (data,_) in enumerate(data_loader, 0):\n",
        "    bs=data.size()[0]\n",
        "    \n",
        "    ones_label=Variable(torch.ones(bs,1)).to(device)\n",
        "    zeros_label=Variable(torch.zeros(bs,1)).to(device)\n",
        "    zeros_label1=Variable(torch.zeros(10,1)).to(device)\n",
        "    datav = Variable(data).to(device)\n",
        "    mean, logvar, rec_enc = gen(datav)\n",
        "    z_p = Variable(torch.randn(10,128)).to(device)\n",
        "    x_p_tilda = gen.decoder(z_p)\n",
        " \n",
        "    output = discrim(datav)[0]\n",
        "    errD_real = criterion(output, ones_label)\n",
        "    dis_real_list.append(errD_real.item())\n",
        "    output = discrim(rec_enc)[0]\n",
        "    errD_rec_enc = criterion(output, zeros_label)\n",
        "    dis_fake_list.append(errD_rec_enc.item())\n",
        "    output = discrim(x_p_tilda)[0]\n",
        "    errD_rec_noise = criterion(output, zeros_label1)\n",
        "    dis_prior_list.append(errD_rec_noise.item())\n",
        "    gan_loss = errD_real + errD_rec_enc + errD_rec_noise\n",
        "    gan_loss_list.append(gan_loss.item())\n",
        "    optim_Dis.zero_grad()\n",
        "    gan_loss.backward(retain_graph=True)\n",
        "    optim_Dis.step()\n",
        "\n",
        "\n",
        "    output = discrim(datav)[0]\n",
        "    errD_real = criterion(output, ones_label)\n",
        "    output = discrim(rec_enc)[0]\n",
        "    errD_rec_enc = criterion(output, zeros_label)\n",
        "    output = discrim(x_p_tilda)[0]\n",
        "    errD_rec_noise = criterion(output, zeros_label1)\n",
        "    gan_loss = errD_real + errD_rec_enc + errD_rec_noise\n",
        "    \n",
        "\n",
        "    x_l_tilda = discrim(rec_enc)[1]\n",
        "    x_l = discrim(datav)[1]\n",
        "    rec_loss = ((x_l_tilda - x_l) ** 2).mean()\n",
        "    err_dec = gamma * rec_loss - gan_loss \n",
        "    recon_loss_list.append(rec_loss.item())\n",
        "    optim_D.zero_grad()\n",
        "    err_dec.backward(retain_graph=True)\n",
        "    optim_D.step()\n",
        "    \n",
        "    mean, logvar, rec_enc = gen(datav)\n",
        "    x_l_tilda = discrim(rec_enc)[1]\n",
        "    x_l = discrim(datav)[1]\n",
        "    rec_loss = ((x_l_tilda - x_l) ** 2).mean()\n",
        "    prior_loss = 1 + logvar - mean.pow(2) - logvar.exp()\n",
        "    prior_loss = (-0.5 * torch.sum(prior_loss))/torch.numel(mean.data)\n",
        "    prior_loss_list.append(prior_loss.item())\n",
        "    err_enc = prior_loss + 5*rec_loss\n",
        "\n",
        "    b=gen(x_fixed)[2]\n",
        "    b=b.detach()\n",
        "    c=gen.decoder(z_fixed)\n",
        "    c=c.detach()\n",
        "\n",
        "    real = scale_images(data, (128,128,3))\n",
        "    fake = scale_images(b.cpu(), (128,128,3))\n",
        "    fid_score = calculate_fid(model, real, fake)\n",
        "    fid_scores.append(fid_score)\n",
        "    \n",
        "    optim_E.zero_grad()\n",
        "    err_enc.backward(retain_graph=True)\n",
        "    optim_E.step()\n",
        "\n",
        "    if i % 50 == 0:\n",
        "            print('[%d/%d][%d/%d]\\tLoss_gan: %.4f\\tLoss_prior: %.4f\\tRec_loss: %.4f\\tdis_real_loss: %0.4f\\tdis_fake_loss: %.4f\\tdis_prior_loss: %.4f\\tFID: %.4f'\n",
        "                  % (epoch,epochs, i, len(data_loader),\n",
        "                     gan_loss.item(), prior_loss.item(),rec_loss.item(),errD_real.item(),errD_rec_enc.item(),errD_rec_noise.item(), fid_score))\n",
        "\n",
        "\n",
        "  show_and_save('noise_epoch_%d.png' % epoch ,make_grid((c*0.5+0.5).cpu(),8))\n",
        "  show_and_save('epoch_%d.png' % epoch ,make_grid((b*0.5+0.5).cpu(),8))\n",
        "  \n",
        "plot_loss(prior_loss_list)\n",
        "plot_loss(recon_loss_list)\n",
        "plot_loss(gan_loss_list)"
      ]
    },
    {
      "cell_type": "code",
      "execution_count": null,
      "metadata": {
        "id": "5KxLJ4eL2tWS"
      },
      "outputs": [],
      "source": []
    }
  ],
  "metadata": {
    "accelerator": "GPU",
    "colab": {
      "machine_shape": "hm",
      "provenance": []
    },
    "gpuClass": "premium",
    "kernelspec": {
      "display_name": "base",
      "language": "python",
      "name": "python3"
    },
    "language_info": {
      "codemirror_mode": {
        "name": "ipython",
        "version": 3
      },
      "file_extension": ".py",
      "mimetype": "text/x-python",
      "name": "python",
      "nbconvert_exporter": "python",
      "pygments_lexer": "ipython3",
      "version": "3.9.13"
    },
    "orig_nbformat": 4
  },
  "nbformat": 4,
  "nbformat_minor": 0
}
